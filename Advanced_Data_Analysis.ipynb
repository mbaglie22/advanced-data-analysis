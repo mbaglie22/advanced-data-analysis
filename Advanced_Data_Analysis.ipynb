{
 "cells": [
  {
   "cell_type": "markdown",
   "id": "ebeaa91c",
   "metadata": {
    "id": "ebeaa91c"
   },
   "source": [
    "# Advanced Data Analysis\n"
   ]
  },
  {
   "cell_type": "markdown",
   "id": "d9e90bac",
   "metadata": {
    "id": "d9e90bac"
   },
   "source": [
    "This group project will focus on analysing data on flights in the US.\n",
    "\n",
    "Unless otherwise specified, the problems can be solved using either Spark or Pandas.\n",
    "\n",
    "Some useful links:\n",
    "\n",
    "* [Spark web site](https://spark.apache.org/)\n",
    "\n",
    "* [Spark MLlib main page](https://spark.apache.org/mllib/)\n",
    "* [Spark MLlib guide](https://spark.apache.org/docs/latest/ml-guide.html)\n",
    "\n",
    "* [Spark GraphX main page](https://spark.apache.org/graphx/)\n",
    "* [Spark GraphFrames main page](https://graphframes.github.io/graphframes/docs/_site/index.html)\n",
    "* [Spark GraphFrames User Guide](https://graphframes.github.io/graphframes/docs/_site/user-guide.html)\n"
   ]
  },
  {
   "cell_type": "markdown",
   "id": "b6f57801",
   "metadata": {
    "id": "b6f57801"
   },
   "source": [
    "## Colab setup\n",
    "\n",
    "The following cell will install Spark, if the notebook is running on COLAB. Before running this cell, you should access the following link [https://drive.google.com/drive/folders/1hylIwkzcOWjYMQW2wWSVRmAN9mEyGToP?usp=sharing](https://drive.google.com/drive/folders/1hylIwkzcOWjYMQW2wWSVRmAN9mEyGToP?usp=sharing)"
   ]
  },
  {
   "cell_type": "code",
   "execution_count": null,
   "id": "5fae91c0",
   "metadata": {
    "colab": {
     "base_uri": "https://localhost:8080/"
    },
    "id": "5fae91c0",
    "outputId": "5844a6fe-256e-4f22-e539-630a8c74b305"
   },
   "outputs": [
    {
     "name": "stdout",
     "output_type": "stream",
     "text": [
      "Reading package lists... Done\n",
      "Building dependency tree       \n",
      "Reading state information... Done\n",
      "openjdk-8-jdk-headless is already the newest version (8u292-b10-0ubuntu1~18.04).\n",
      "0 upgraded, 0 newly installed, 0 to remove and 37 not upgraded.\n",
      "Requirement already satisfied: pyspark==3.1.2 in /usr/local/lib/python3.7/dist-packages (3.1.2)\n",
      "Requirement already satisfied: py4j==0.10.9 in /usr/local/lib/python3.7/dist-packages (from pyspark==3.1.2) (0.10.9)\n",
      "--2021-12-08 20:27:34--  https://repos.spark-packages.org/graphframes/graphframes/0.8.2-spark3.1-s_2.12/graphframes-0.8.2-spark3.1-s_2.12.jar\n",
      "Resolving repos.spark-packages.org (repos.spark-packages.org)... 13.32.87.119, 13.32.87.68, 13.32.87.12, ...\n",
      "Connecting to repos.spark-packages.org (repos.spark-packages.org)|13.32.87.119|:443... connected.\n",
      "HTTP request sent, awaiting response... 200 OK\n",
      "Length: 247882 (242K) [binary/octet-stream]\n",
      "Saving to: ‘graphframes-0.8.2-spark3.1-s_2.12.jar.6’\n",
      "\n",
      "graphframes-0.8.2-s 100%[===================>] 242.07K  --.-KB/s    in 0.06s   \n",
      "\n",
      "2021-12-08 20:27:34 (3.96 MB/s) - ‘graphframes-0.8.2-spark3.1-s_2.12.jar.6’ saved [247882/247882]\n",
      "\n",
      "Drive already mounted at /content/drive; to attempt to forcibly remount, call drive.mount(\"/content/drive\", force_remount=True).\n"
     ]
    }
   ],
   "source": [
    "#Run this cell to install Spark on Colab\n",
    "import os\n",
    "\n",
    "if 'COLAB_GPU' in os.environ : \n",
    "    !apt-get install openjdk-8-jdk-headless\n",
    "    !pip install pyspark==3.1.2\n",
    "    !wget https://repos.spark-packages.org/graphframes/graphframes/0.8.2-spark3.1-s_2.12/graphframes-0.8.2-spark3.1-s_2.12.jar\n",
    "    os.environ['PYSPARK_SUBMIT_ARGS'] = '--jars graphframes-0.8.2-spark3.1-s_2.12.jar pyspark-shell'\n",
    "\n",
    "    from google.colab import drive\n",
    "    drive.mount('/content/drive')"
   ]
  },
  {
   "cell_type": "markdown",
   "id": "9b22fa1b",
   "metadata": {
    "id": "9b22fa1b"
   },
   "source": [
    "## Local setup\n",
    "\n",
    "For running the group project locally, you should create a directory named **data** in the directory where you have this notebook. Then, you should download to the **data** directory of the repository."
   ]
  },
  {
   "cell_type": "markdown",
   "id": "83396505",
   "metadata": {
    "id": "83396505"
   },
   "source": [
    "## Initialization"
   ]
  },
  {
   "cell_type": "markdown",
   "id": "d3aac495",
   "metadata": {
    "id": "d3aac495"
   },
   "source": [
    "Import libraries. "
   ]
  },
  {
   "cell_type": "code",
   "execution_count": null,
   "id": "69621cc6",
   "metadata": {
    "colab": {
     "base_uri": "https://localhost:8080/"
    },
    "id": "69621cc6",
    "outputId": "af589c0f-d5c4-43e4-9fb3-daae9ac35055"
   },
   "outputs": [
    {
     "name": "stdout",
     "output_type": "stream",
     "text": [
      "3.1.2\n"
     ]
    }
   ],
   "source": [
    "import os\n",
    "import time\n",
    "import pandas as pd\n",
    "import numpy as np\n",
    "import matplotlib.pyplot as plt\n",
    "import pyspark\n",
    "from pyspark.sql import SparkSession\n",
    "from pyspark.sql.types import *\n",
    "from pyspark.sql.functions import *\n",
    "from pyspark.ml.linalg import Vectors\n",
    "\n",
    "plt.style.use('seaborn')\n",
    "\n",
    "print(pyspark.__version__)\n"
   ]
  },
  {
   "cell_type": "markdown",
   "id": "ee5839cf",
   "metadata": {
    "id": "ee5839cf"
   },
   "source": [
    "Let's start spark session and set *log* level to ERROR."
   ]
  },
  {
   "cell_type": "code",
   "execution_count": null,
   "id": "6ad40951",
   "metadata": {
    "id": "6ad40951"
   },
   "outputs": [],
   "source": [
    "spark = SparkSession.builder \\\n",
    "    .master(\"local\") \\\n",
    "    .appName(\"Group project\") \\\n",
    "    .config(\"spark.sql.execution.arrow.pyspark.enabled\", \"true\") \\\n",
    "    .getOrCreate()\n",
    "\n",
    "if 'COLAB_GPU' in os.environ : \n",
    "    spark.sparkContext.addPyFile('graphframes-0.8.2-spark3.1-s_2.12.jar')\n",
    "elif 'DATABRICKS_RUNTIME_VERSION' in os.environ : \n",
    "    # TO BE COMPLETED\n",
    "    ;\n",
    "else:\n",
    "    spark.sparkContext.addPyFile('/usr/local/spark/jars/graphframes-0.8.1-spark3.0-s_2.12.jar')\n",
    "\n",
    "\n",
    "spark.sparkContext.setLogLevel(\"ERROR\")"
   ]
  },
  {
   "cell_type": "markdown",
   "id": "e23071d0",
   "metadata": {
    "id": "e23071d0"
   },
   "source": [
    "## Data selection\n",
    "\n",
    "This cell controls the dataset you will be using. Note that this cell will control the path to the files, dependening on the platform you are using to run the code.\n",
    "\n",
    "The sample.csv file is available at https://drive.google.com/file/d/1H6uZ4Y-0WNfavUdqOLhVB9Bg8YPUIwyp/view?usp=sharing\n",
    "DISCLAIMER: Code need to be changed according to the new repository structure."
   ]
  },
  {
   "cell_type": "code",
   "execution_count": null,
   "id": "c836342f",
   "metadata": {
    "id": "c836342f"
   },
   "outputs": [],
   "source": [
    "# Comment the following \n",
    "flightsF = \"sample.csv\"\n",
    "#flightsF = \"complete.csv\"\n",
    "#flightsF = \"data-2009.csv\"\n",
    "#flightsF = \"data-2010.csv\"\n",
    "#flightsF = \"data-2011.csv\"\n",
    "#flightsF = \"data-2012.csv\"\n",
    "#flightsF = \"data-2013.csv\"\n",
    "#flightsF = \"data-2014.csv\"\n",
    "#flightsF = \"data-2015.csv\"\n",
    "#flightsF = \"data-2016.csv\"\n",
    "#flightsF = \"data-2017.csv\"\n",
    "#flightsF = \"data-2018.csv\"\n",
    "\n",
    "if 'COLAB_GPU' in os.environ : \n",
    "    FLIGHTS_FILENAME = \"/content/drive/MyDrive/group2122/\" + flightsF\n",
    "    AIRPORTS_FILENAME = \"/content/drive/MyDrive/group2122/airports.csv\"\n",
    "    HOLIDAYS_FILENAME = \"/content/drive/MyDrive/group2122/holidays.csv\"\n",
    "elif 'DATABRICKS_RUNTIME_VERSION' in os.environ : \n",
    "    # TO BE COMPLETE\n",
    "    ;\n",
    "else:\n",
    "    FLIGHTS_FILENAME = os.path.join( \"data\", flightsF)\n",
    "    AIRPORTS_FILENAME = os.path.join( \"data\", \"airports.csv\")\n",
    "    HOLIDAYS_FILENAME = os.path.join( \"data\", \"holidays.csv\")\n",
    "\n"
   ]
  },
  {
   "cell_type": "code",
   "execution_count": null,
   "id": "Ca8rBR1yGMbt",
   "metadata": {
    "colab": {
     "base_uri": "https://localhost:8080/"
    },
    "id": "Ca8rBR1yGMbt",
    "outputId": "c757b7c5-18de-4561-fd8a-09271d3e219d"
   },
   "outputs": [
    {
     "name": "stdout",
     "output_type": "stream",
     "text": [
      "Drive already mounted at /content/drive; to attempt to forcibly remount, call drive.mount(\"/content/drive\", force_remount=True).\n"
     ]
    }
   ],
   "source": [
    "from google.colab import drive\n",
    "drive.mount('/content/drive')"
   ]
  },
  {
   "cell_type": "markdown",
   "id": "198a44fe",
   "metadata": {
    "id": "198a44fe"
   },
   "source": [
    "## Datasets\n",
    "\n",
    "This section describes the datasets you have available for your analysis."
   ]
  },
  {
   "cell_type": "markdown",
   "id": "514ef634",
   "metadata": {
    "id": "514ef634"
   },
   "source": [
    "### Flights\n",
    "\n",
    "The flights dataset, generated from data available at [https://www.transtats.bts.gov/DataIndex.asp](https://www.transtats.bts.gov/DataIndex.asp), includes the following columns:\n",
    "\n",
    "* FL_DATE: date of the flight (format: yyyy-mm-dd)\n",
    "* OP_CARRIER: carrier code\n",
    "* OP_CARRIER_FL_NUM: carrier flight number\n",
    "* ORIGIN: origin airport (using IATA codes)\n",
    "* DEST: destination airport (using IATA codes)\n",
    "* CRS_DEP_TIME: scheduled local departure time (format for all times: hh:mm)\n",
    "* DEP_TIME: actual departure time\n",
    "* DEP_DELAY: departure delay, in minutes\n",
    "* TAXI_OUT: taxi out time\n",
    "* WHEELS_OFF: actual local wheel off time\n",
    "* WHEELS_ON: actual local wheel on time\n",
    "* TAXI_IN: actual local taxi in time\n",
    "* CRS_ARR_TIME: scheduled local arrival time\n",
    "* ARR_TIME: actual arrival time\n",
    "* ARR_DELAY: arrival delay, in minutes\n",
    "* CANCELLED: 1 if the flight has been cancelled; 0 otherwise\n",
    "* CANCELLATION_CODE: code of cancelation (A = carrier, B = weather, C = NAS, D = security)\n",
    "* DIVERTED: 1 if the flight has been diverted; 0 otherwise\n",
    "* CRS_ELAPSED_TIME: estimated elapsed time\n",
    "* ACTUAL_ELAPSED_TIME: actual elapsed time\n",
    "* AIR_TIME: flight time, in minutes\n",
    "* DISTANCE: flight distance, in miles\n",
    "* CARRIER_DELAY: delay due to carrier, in minutes\n",
    "* WEATHER_DELAY: delay due to weather, in minutes\n",
    "* NAS_DELAY: delay due to NAS, in minutes\n",
    "* SECURITY_DELAY: delay due to security, in minutes\n",
    "* LATE_AIRCRAFT_DELAY: delay due to late aircraft, in minutes\n",
    "\n",
    "The following data files are available:\n",
    "\n",
    "* complete.csv : complete data set, including data from 2009 to 2018\n",
    "* sample.csv : sample data set, including data from July 1 to July 15, from years 2009 to 2018\n",
    "* data-20xx.csv : data set for a particular year\n",
    "\n",
    "Load the dataset into flightsDF dataframe and register flights under view name **flights**. We are setting the schema programmatically, because inferring the schema in a very large dataframe is slow.\n"
   ]
  },
  {
   "cell_type": "code",
   "execution_count": null,
   "id": "a4ac960a",
   "metadata": {
    "colab": {
     "base_uri": "https://localhost:8080/"
    },
    "id": "a4ac960a",
    "outputId": "ee7dee48-a3a0-4780-91a2-0ed0134557e0"
   },
   "outputs": [
    {
     "name": "stdout",
     "output_type": "stream",
     "text": [
      "+----------+----------+-----------------+------+----+------------+--------+---------+--------+----------+---------+-------+------------+--------+---------+---------+-----------------+--------+----------------+-------------------+--------+--------+-------------+-------------+---------+--------------+-------------------+\n",
      "|   FL_DATE|OP_CARRIER|OP_CARRIER_FL_NUM|ORIGIN|DEST|CRS_DEP_TIME|DEP_TIME|DEP_DELAY|TAXI_OUT|WHEELS_OFF|WHEELS_ON|TAXI_IN|CRS_ARR_TIME|ARR_TIME|ARR_DELAY|CANCELLED|CANCELLATION_CODE|DIVERTED|CRS_ELAPSED_TIME|ACTUAL_ELAPSED_TIME|AIR_TIME|DISTANCE|CARRIER_DELAY|WEATHER_DELAY|NAS_DELAY|SECURITY_DELAY|LATE_AIRCRAFT_DELAY|\n",
      "+----------+----------+-----------------+------+----+------------+--------+---------+--------+----------+---------+-------+------------+--------+---------+---------+-----------------+--------+----------------+-------------------+--------+--------+-------------+-------------+---------+--------------+-------------------+\n",
      "|2009-01-01|        XE|             1204|   DCA| EWR|       11:00|   10:58|       -2|      18|     11:16|    11:58|      8|       12:02|   12:06|        4|        0|             null|       0|              62|                 68|      42|     199|         null|         null|     null|          null|               null|\n",
      "|2009-01-01|        XE|             1206|   EWR| IAD|       15:10|   15:09|       -1|      28|     15:37|    16:20|      4|       16:32|   16:24|       -8|        0|             null|       0|              82|                 75|      43|     213|         null|         null|     null|          null|               null|\n",
      "|2009-01-01|        XE|             1207|   EWR| DCA|       11:00|   10:59|       -1|      20|     11:19|    11:55|      6|       12:10|   12:01|       -9|        0|             null|       0|              70|                 62|      36|     199|         null|         null|     null|          null|               null|\n",
      "+----------+----------+-----------------+------+----+------------+--------+---------+--------+----------+---------+-------+------------+--------+---------+---------+-----------------+--------+----------------+-------------------+--------+--------+-------------+-------------+---------+--------------+-------------------+\n",
      "only showing top 3 rows\n",
      "\n"
     ]
    }
   ],
   "source": [
    "flightsSchema = StructType([\n",
    "    StructField(\"FL_DATE\", DateType()),\n",
    "    StructField(\"OP_CARRIER\", StringType()),\n",
    "    StructField(\"OP_CARRIER_FL_NUM\", IntegerType()),\n",
    "    StructField(\"ORIGIN\", StringType()),\n",
    "    StructField(\"DEST\", StringType()),\n",
    "    StructField(\"CRS_DEP_TIME\", StringType()),\n",
    "    StructField(\"DEP_TIME\", StringType()),\n",
    "    StructField(\"DEP_DELAY\", IntegerType()),\n",
    "    StructField(\"TAXI_OUT\", IntegerType()),\n",
    "    StructField(\"WHEELS_OFF\", StringType()),\n",
    "    StructField(\"WHEELS_ON\", StringType()),\n",
    "    StructField(\"TAXI_IN\", IntegerType()),\n",
    "    StructField(\"CRS_ARR_TIME\", StringType()),\n",
    "    StructField(\"ARR_TIME\", StringType()),\n",
    "    StructField(\"ARR_DELAY\", IntegerType()),\n",
    "    StructField(\"CANCELLED\", IntegerType()),\n",
    "    StructField(\"CANCELLATION_CODE\", StringType()),\n",
    "    StructField(\"DIVERTED\", IntegerType()),\n",
    "    StructField(\"CRS_ELAPSED_TIME\", IntegerType()),\n",
    "    StructField(\"ACTUAL_ELAPSED_TIME\", IntegerType()),\n",
    "    StructField(\"AIR_TIME\", IntegerType()),\n",
    "    StructField(\"DISTANCE\", IntegerType()),\n",
    "    StructField(\"CARRIER_DELAY\", IntegerType()),\n",
    "    StructField(\"WEATHER_DELAY\", IntegerType()),\n",
    "    StructField(\"NAS_DELAY\", IntegerType()),\n",
    "    StructField(\"SECURITY_DELAY\", IntegerType()),\n",
    "    StructField(\"LATE_AIRCRAFT_DELAY\", IntegerType())\n",
    "    ])\n",
    "\n",
    "flightsDF = spark.read.option(\"header\", True).schema(flightsSchema).csv(FLIGHTS_FILENAME)\n",
    "\n",
    "flightsDF.createOrReplaceTempView(\"flights\")\n",
    "\n",
    "flightsDF.show(3)"
   ]
  },
  {
   "cell_type": "markdown",
   "id": "3aaea788",
   "metadata": {
    "id": "3aaea788"
   },
   "source": [
    "### Airports\n",
    "\n",
    "The airports dataset includes the information about US airports - soure: [https://datahub.io/core/airport-codes](https://datahub.io/core/airport-codes).\n",
    "\n",
    "This dataset includes the following columns:\n",
    "\n",
    "* ident: identifier\n",
    "* type: type of airport\n",
    "* name: name of airport\n",
    "* elevation_ft: altitude, in feets\n",
    "* continent: code of continent\n",
    "* iso_country: coide of country\n",
    "* iso_regio: code of region\n",
    "* municipality: city\n",
    "* gps_code: code of GPS\n",
    "* iata_code: IATA code of airport\n",
    "* local_code: local code of airport\n",
    "* coordinates: coordinates of airport\n",
    "\n",
    "Load the dataset into airportDF dataframe and register airports under view name **airports**.\n"
   ]
  },
  {
   "cell_type": "code",
   "execution_count": null,
   "id": "d558994b",
   "metadata": {
    "colab": {
     "base_uri": "https://localhost:8080/"
    },
    "id": "d558994b",
    "outputId": "57f38d9a-2e5c-4661-f977-82a4ecc23d58"
   },
   "outputs": [
    {
     "name": "stdout",
     "output_type": "stream",
     "text": [
      "+-----+-------------+--------------------+------------+---------+-----------+----------+------------+--------+---------+----------+--------------------+\n",
      "|ident|         type|                name|elevation_ft|continent|iso_country|iso_region|municipality|gps_code|iata_code|local_code|         coordinates|\n",
      "+-----+-------------+--------------------+------------+---------+-----------+----------+------------+--------+---------+----------+--------------------+\n",
      "|  00A|     heliport|   Total Rf Heliport|          11|       NA|         US|     US-PA|    Bensalem|     00A|     null|       00A|-74.9336013793945...|\n",
      "| 00AA|small_airport|Aero B Ranch Airport|        3435|       NA|         US|     US-KS|       Leoti|    00AA|     null|      00AA|-101.473911, 38.7...|\n",
      "| 00AK|small_airport|        Lowell Field|         450|       NA|         US|     US-AK|Anchor Point|    00AK|     null|      00AK|-151.695999146, 5...|\n",
      "+-----+-------------+--------------------+------------+---------+-----------+----------+------------+--------+---------+----------+--------------------+\n",
      "only showing top 3 rows\n",
      "\n"
     ]
    }
   ],
   "source": [
    "airportsDF = spark.read.option(\"header\", True).option(\"inferSchema\",True).csv(AIRPORTS_FILENAME)\n",
    "\n",
    "airportsDF.createOrReplaceTempView(\"airports\")\n",
    "\n",
    "airportsDF.show(3)\n"
   ]
  },
  {
   "cell_type": "markdown",
   "id": "122d4c09",
   "metadata": {
    "id": "122d4c09"
   },
   "source": [
    "Exemplify how you can plot information about airports."
   ]
  },
  {
   "cell_type": "code",
   "execution_count": null,
   "id": "892455de",
   "metadata": {
    "colab": {
     "base_uri": "https://localhost:8080/",
     "height": 365
    },
    "id": "892455de",
    "outputId": "fe78532f-5bfc-4f74-eb86-d4bd74befcaf"
   },
   "outputs": [
    {
     "name": "stdout",
     "output_type": "stream",
     "text": [
      "Plotting airport location - using altitude for different color\n"
     ]
    },
    {
     "data": {
      "text/plain": [
       "<matplotlib.axes._subplots.AxesSubplot at 0x7f624bbaa710>"
      ]
     },
     "execution_count": 9,
     "metadata": {},
     "output_type": "execute_result"
    },
    {
     "data": {
      "image/png": "[encoded data removed]",
      "text/plain": [
       "<Figure size 576x396 with 2 Axes>"
      ]
     },
     "metadata": {},
     "output_type": "display_data"
    }
   ],
   "source": [
    "airportLocDF = spark.sql(\"\"\"SELECT FLOAT(TRIM(SUBSTRING_INDEX(coordinates,',',1))) AS lon,\n",
    "                                    FLOAT(TRIM(SUBSTRING_INDEX(coordinates,',',-1))) AS lat,\n",
    "                                    elevation_ft AS val\n",
    "                        FROM airports \n",
    "                        WHERE type = 'large_airport' AND continent = 'NA' AND iso_country = 'US'\"\"\")\n",
    "\n",
    "print('Plotting airport location - using altitude for different color')\n",
    "airportLocPD = airportLocDF.toPandas()\n",
    "airportLocPD.plot(x=\"lon\",y=\"lat\",c=\"val\",s=10,cmap=\"rainbow\",kind=\"scatter\")\n"
   ]
  },
  {
   "cell_type": "markdown",
   "id": "e9c5d9b9",
   "metadata": {
    "id": "e9c5d9b9"
   },
   "source": [
    "### Public holidays\n",
    "\n",
    "Dates of public holidays in the US.\n",
    "\n",
    "This dataset includes the following columns:\n",
    "\n",
    "* Date: date (format: yyyy-mm-dd)\n",
    "* Holiday: name of the holiday\n",
    "* WeekDay: day of week\n",
    "* Month: month (1-12)\n",
    "* Day: day (1-31)\n",
    "* Year: year (2002-2021)\n",
    "\n",
    "Load the dataset into holidaysDF dataframe and register holidays under view name **holidays**.\n"
   ]
  },
  {
   "cell_type": "code",
   "execution_count": null,
   "id": "d9f5f8df",
   "metadata": {
    "colab": {
     "base_uri": "https://localhost:8080/"
    },
    "id": "d9f5f8df",
    "outputId": "0f50bf35-973e-4ac4-fc47-7121e53644bc"
   },
   "outputs": [
    {
     "name": "stdout",
     "output_type": "stream",
     "text": [
      "+----------+-----------+-------+-----+---+----+\n",
      "|      Date|    Holiday|WeekDay|Month|Day|Year|\n",
      "+----------+-----------+-------+-----+---+----+\n",
      "|2004-07-04|4th of July| Sunday|    7|  4|2004|\n",
      "|2005-07-04|4th of July| Monday|    7|  4|2005|\n",
      "|2006-07-04|4th of July|Tuesday|    7|  4|2006|\n",
      "+----------+-----------+-------+-----+---+----+\n",
      "only showing top 3 rows\n",
      "\n"
     ]
    }
   ],
   "source": [
    "holidaysDF = spark.read.option(\"header\", True).option(\"inferSchema\",True).csv(HOLIDAYS_FILENAME)\n",
    "\n",
    "holidaysDF.createOrReplaceTempView(\"holidays\")\n",
    "\n",
    "holidaysDF.show(3)\n"
   ]
  },
  {
   "cell_type": "markdown",
   "id": "47dcbef8",
   "metadata": {
    "id": "47dcbef8"
   },
   "source": [
    "## Problem 0 [1 point]\n",
    "\n",
    "We start by executing some simple statistics to compare the execution time between Spark and Pandas.\n"
   ]
  },
  {
   "cell_type": "markdown",
   "id": "65575f27",
   "metadata": {
    "id": "65575f27"
   },
   "source": [
    "### Code: Spark"
   ]
  },
  {
   "cell_type": "code",
   "execution_count": null,
   "id": "782b53bb",
   "metadata": {
    "colab": {
     "base_uri": "https://localhost:8080/"
    },
    "id": "782b53bb",
    "outputId": "a0c2649c-9205-4dac-b358-8359b056290e"
   },
   "outputs": [
    {
     "name": "stdout",
     "output_type": "stream",
     "text": [
      "+----------+-----------+\n",
      "|OP_CARRIER|num_flights|\n",
      "+----------+-----------+\n",
      "|        UA|     192622|\n",
      "|        NK|      25439|\n",
      "|        AA|     266003|\n",
      "|        NW|      14128|\n",
      "|        EV|     185522|\n",
      "|        B6|      97885|\n",
      "|        DL|     303978|\n",
      "|        OO|     240809|\n",
      "|        F9|      36190|\n",
      "|        YV|      38181|\n",
      "|        US|      84928|\n",
      "|        MQ|     114668|\n",
      "|        OH|      24677|\n",
      "|        HA|      29920|\n",
      "|        XE|      31772|\n",
      "|        G4|       5123|\n",
      "|        YX|      12706|\n",
      "|        AS|      68912|\n",
      "|        CO|      21141|\n",
      "|        FL|      43105|\n",
      "+----------+-----------+\n",
      "only showing top 20 rows\n",
      "\n",
      "Runtime = 6.624901533126831\n"
     ]
    }
   ],
   "source": [
    "start_time = time.time()\n",
    "\n",
    "flightsSchema = StructType([\n",
    "    StructField(\"FL_DATE\", DateType()),\n",
    "    StructField(\"OP_CARRIER\", StringType()),\n",
    "    StructField(\"OP_CARRIER_FL_NUM\", IntegerType()),\n",
    "    StructField(\"ORIGIN\", StringType()),\n",
    "    StructField(\"DEST\", StringType()),\n",
    "    StructField(\"CRS_DEP_TIME\", StringType()),\n",
    "    StructField(\"DEP_TIME\", StringType()),\n",
    "    StructField(\"DEP_DELAY\", IntegerType()),\n",
    "    StructField(\"TAXI_OUT\", IntegerType()),\n",
    "    StructField(\"WHEELS_OFF\", StringType()),\n",
    "    StructField(\"WHEELS_ON\", StringType()),\n",
    "    StructField(\"TAXI_IN\", IntegerType()),\n",
    "    StructField(\"CRS_ARR_TIME\", StringType()),\n",
    "    StructField(\"ARR_TIME\", StringType()),\n",
    "    StructField(\"ARR_DELAY\", IntegerType()),\n",
    "    StructField(\"CANCELLED\", IntegerType()),\n",
    "    StructField(\"CANCELLATION_CODE\", StringType()),\n",
    "    StructField(\"DIVERTED\", IntegerType()),\n",
    "    StructField(\"CRS_ELAPSED_TIME\", IntegerType()),\n",
    "    StructField(\"ACTUAL_ELAPSED_TIME\", IntegerType()),\n",
    "    StructField(\"AIR_TIME\", IntegerType()),\n",
    "    StructField(\"DISTANCE\", IntegerType()),\n",
    "    StructField(\"CARRIER_DELAY\", IntegerType()),\n",
    "    StructField(\"WEATHER_DELAY\", IntegerType()),\n",
    "    StructField(\"NAS_DELAY\", IntegerType()),\n",
    "    StructField(\"SECURITY_DELAY\", IntegerType()),\n",
    "    StructField(\"LATE_AIRCRAFT_DELAY\", IntegerType())\n",
    "    ])\n",
    "\n",
    "flightsDF = spark.read.option(\"header\", True).schema(flightsSchema).csv(FLIGHTS_FILENAME)\n",
    "\n",
    "flightsDF.createOrReplaceTempView(\"flights_new\")\n",
    "\n",
    "result = spark.sql(\"SELECT OP_CARRIER, count(*) AS num_flights FROM flights_new GROUP BY OP_CARRIER\")\n",
    "result.show()\n",
    "\n",
    "end_time = time.time()\n",
    "print( \"Runtime = \" + str(end_time - start_time))\n",
    "\n"
   ]
  },
  {
   "cell_type": "markdown",
   "id": "393ed265",
   "metadata": {
    "id": "393ed265"
   },
   "source": [
    "* Execution time for sample.csv: 11.758420705795288 seconds\n",
    "* Execution time for complete.csv: 170.09200310707092 seconds\n",
    "\n",
    "Using GPU @ Colab (go to Execution time menu and change the type of execution time to include GPU):\n",
    "\n",
    "* Execution time for sample.csv: 6.624901533126831 seconds\n",
    "* Execution time for complete.csv: 9.488665342330933 seconds\n"
   ]
  },
  {
   "cell_type": "markdown",
   "id": "13e0b6a7",
   "metadata": {
    "id": "13e0b6a7"
   },
   "source": [
    "### Code: Pandas library"
   ]
  },
  {
   "cell_type": "code",
   "execution_count": null,
   "id": "bd002811",
   "metadata": {
    "id": "bd002811"
   },
   "outputs": [],
   "source": [
    "import pandas as pd\n",
    "import time\n",
    "\n",
    "start_time = time.time()\n",
    "mySchema = {\"FL_DATE\": \"str\",\n",
    "            \"OP_CARRIER\": \"str\",\n",
    "            \"OP_CARRIER_FL_NUM\":\"Int64\",\n",
    "            \"ORIGIN\":\"str\",\n",
    "            \"DEST\":\"str\",\n",
    "            \"CRS_DEP_TIME\":\"str\",\n",
    "            \"DEP_TIME\":\"str\",\n",
    "            \"DEP_DELAY\":\"Int64\",\n",
    "            \"TAXI_OUT\":\"Int64\",\n",
    "            \"WHEELS_OFF\":\"str\",\n",
    "            \"WHEELS_ON\":\"str\",\n",
    "            \"TAXI_IN\":\"Int64\",\n",
    "            \"CRS_ARR_TIME\":\"str\",\n",
    "            \"ARR_TIME\":\"str\",\n",
    "            \"ARR_DELAY\":\"Int64\",\n",
    "            \"CANCELLED\":\"Int64\",\n",
    "            \"CANCELLATION_CODE\":\"str\",\n",
    "            \"DIVERTED\":\"Int64\",\n",
    "            \"CRS_ELAPSED_TIME\":\"Int64\",\n",
    "            \"ACTUAL_ELAPSED_TIME\":\"Int64\",\n",
    "            \"AIR_TIME\":\"Int64\",\n",
    "            \"DISTANCE\":\"Int64\",\n",
    "            \"CARRIER_DELAY\":\"Int64\",\n",
    "            \"WEATHER_DELAY\":\"Int64\",\n",
    "            \"NAS_DELAY\":\"Int64\",\n",
    "            \"SECURITY_DELAY\":\"Int64\",\n",
    "            \"LATE_AIRCRAFT_DELAY\":\"Int64\"\n",
    "           }\n",
    "\n",
    "dataframe = pd.read_csv(FLIGHTS_FILENAME,dtype=mySchema)\n",
    "result = dataframe[[\"FL_DATE\",\"OP_CARRIER\"]].groupby(\"OP_CARRIER\").count()\n",
    "print(result)\n",
    "\n",
    "end_time = time.time()\n",
    "\n",
    "print( \"Runtime = \" + str(end_time - start_time))\n"
   ]
  },
  {
   "cell_type": "markdown",
   "id": "5c51c285",
   "metadata": {
    "id": "5c51c285"
   },
   "source": [
    "* Execution time for sample.csv: Runtime = 22.397742986679077 seconds\n",
    "* Execution time for complete.csv: Runtime => it crashed"
   ]
  },
  {
   "cell_type": "markdown",
   "id": "7bf0588a",
   "metadata": {
    "id": "7bf0588a"
   },
   "source": [
    "**Discuss the results you have obtained:**\n",
    "\n",
    "In the first part of the problem, using Spark, we can notice a difference between the runtime of the calculations made with the GPU (graphics processing unit) and the standard runtime (CPU - central processing unit).\n",
    "The execution time for sample.csv using or not the GPU is pretty the same, but once processed the complete.csv the execution time of the standard runtime increases a lot, while the execution time of the GPU remains similar to the sample.csv one. This difference is due to the advanced calculation capacity of the GPU to accelerate the massive amount of data a CPU can only process in a given amount of time. In fact, the use of the GPUs is more convenient for repetitive and highly-parallel computing tasks.\n",
    "\n",
    "When comparing the code execution time with the Pandas and Spark libraries, it turns out that the Pandas library is about three times slower than the Spark one. This is due to the size of the dataset we are working with. In fact, Pandas DataFrame performs better with small datasets, whereas, if you are working on a Machine Learning application where you are dealing with larger datasets, PySpark is a best fit which processes operations many times faster than Pandas.\n",
    "\n",
    "When trying to run with Pandas the \"complete.csv\" dataframe it ended crashing the program, due to the big size of the file and the incapacity of Pandas to deal with a large number of information.\n"
   ]
  },
  {
   "cell_type": "markdown",
   "id": "37d86190",
   "metadata": {
    "id": "37d86190"
   },
   "source": [
    "## Problem 1 [4 points]\n",
    "\n",
    "In this first problem, you should compute a set of statistics on the data.\n"
   ]
  },
  {
   "cell_type": "markdown",
   "id": "D_s5d4MWuWyL",
   "metadata": {
    "id": "D_s5d4MWuWyL"
   },
   "source": [
    "### **For now on we use the \"data_2018.csv\" file, due to the difficulties we faced trying to run the \"complete.csv\".**"
   ]
  },
  {
   "cell_type": "markdown",
   "id": "af46f81e",
   "metadata": {
    "id": "af46f81e"
   },
   "source": [
    "### Top-20 airports with more flights (include the name of the airport)"
   ]
  },
  {
   "cell_type": "code",
   "execution_count": null,
   "id": "ugOR0dnDhbSF",
   "metadata": {
    "colab": {
     "base_uri": "https://localhost:8080/",
     "height": 676
    },
    "id": "ugOR0dnDhbSF",
    "outputId": "36c8ba60-56c1-4965-b784-53fbc9184243"
   },
   "outputs": [
    {
     "data": {
      "text/html": [
       "<div>\n",
       "<style scoped>\n",
       "    .dataframe tbody tr th:only-of-type {\n",
       "        vertical-align: middle;\n",
       "    }\n",
       "\n",
       "    .dataframe tbody tr th {\n",
       "        vertical-align: top;\n",
       "    }\n",
       "\n",
       "    .dataframe thead th {\n",
       "        text-align: right;\n",
       "    }\n",
       "</style>\n",
       "<table border=\"1\" class=\"dataframe\">\n",
       "  <thead>\n",
       "    <tr style=\"text-align: right;\">\n",
       "      <th></th>\n",
       "      <th>AirportName</th>\n",
       "      <th>IATAcode</th>\n",
       "      <th>NumberOfFlights</th>\n",
       "    </tr>\n",
       "  </thead>\n",
       "  <tbody>\n",
       "    <tr>\n",
       "      <th>1</th>\n",
       "      <td>Hartsfield Jackson Atlanta International Airport</td>\n",
       "      <td>ATL</td>\n",
       "      <td>780125</td>\n",
       "    </tr>\n",
       "    <tr>\n",
       "      <th>2</th>\n",
       "      <td>Chicago O'Hare International Airport</td>\n",
       "      <td>ORD</td>\n",
       "      <td>665895</td>\n",
       "    </tr>\n",
       "    <tr>\n",
       "      <th>3</th>\n",
       "      <td>Dallas Fort Worth International Airport</td>\n",
       "      <td>DFW</td>\n",
       "      <td>558570</td>\n",
       "    </tr>\n",
       "    <tr>\n",
       "      <th>4</th>\n",
       "      <td>Denver International Airport</td>\n",
       "      <td>DEN</td>\n",
       "      <td>472009</td>\n",
       "    </tr>\n",
       "    <tr>\n",
       "      <th>5</th>\n",
       "      <td>Charlotte Douglas International Airport</td>\n",
       "      <td>CLT</td>\n",
       "      <td>466626</td>\n",
       "    </tr>\n",
       "    <tr>\n",
       "      <th>6</th>\n",
       "      <td>Los Angeles International Airport</td>\n",
       "      <td>LAX</td>\n",
       "      <td>443002</td>\n",
       "    </tr>\n",
       "    <tr>\n",
       "      <th>7</th>\n",
       "      <td>San Francisco International Airport</td>\n",
       "      <td>SFO</td>\n",
       "      <td>351788</td>\n",
       "    </tr>\n",
       "    <tr>\n",
       "      <th>8</th>\n",
       "      <td>Phoenix Sky Harbor International Airport</td>\n",
       "      <td>PHX</td>\n",
       "      <td>347915</td>\n",
       "    </tr>\n",
       "    <tr>\n",
       "      <th>9</th>\n",
       "      <td>George Bush Intercontinental Houston Airport</td>\n",
       "      <td>IAH</td>\n",
       "      <td>347588</td>\n",
       "    </tr>\n",
       "    <tr>\n",
       "      <th>10</th>\n",
       "      <td>La Guardia Airport</td>\n",
       "      <td>LGA</td>\n",
       "      <td>342175</td>\n",
       "    </tr>\n",
       "    <tr>\n",
       "      <th>11</th>\n",
       "      <td>McCarran International Airport</td>\n",
       "      <td>LAS</td>\n",
       "      <td>322262</td>\n",
       "    </tr>\n",
       "    <tr>\n",
       "      <th>12</th>\n",
       "      <td>Minneapolis-St Paul International/Wold-Chamber...</td>\n",
       "      <td>MSP</td>\n",
       "      <td>318740</td>\n",
       "    </tr>\n",
       "    <tr>\n",
       "      <th>13</th>\n",
       "      <td>Detroit Metropolitan Wayne County Airport</td>\n",
       "      <td>DTW</td>\n",
       "      <td>315006</td>\n",
       "    </tr>\n",
       "    <tr>\n",
       "      <th>14</th>\n",
       "      <td>General Edward Lawrence Logan International Ai...</td>\n",
       "      <td>BOS</td>\n",
       "      <td>296371</td>\n",
       "    </tr>\n",
       "    <tr>\n",
       "      <th>15</th>\n",
       "      <td>Newark Liberty International Airport</td>\n",
       "      <td>EWR</td>\n",
       "      <td>287738</td>\n",
       "    </tr>\n",
       "    <tr>\n",
       "      <th>16</th>\n",
       "      <td>Seattle Tacoma International Airport</td>\n",
       "      <td>SEA</td>\n",
       "      <td>280007</td>\n",
       "    </tr>\n",
       "    <tr>\n",
       "      <th>17</th>\n",
       "      <td>Orlando International Airport</td>\n",
       "      <td>MCO</td>\n",
       "      <td>276611</td>\n",
       "    </tr>\n",
       "    <tr>\n",
       "      <th>18</th>\n",
       "      <td>Ronald Reagan Washington National Airport</td>\n",
       "      <td>DCA</td>\n",
       "      <td>265035</td>\n",
       "    </tr>\n",
       "    <tr>\n",
       "      <th>19</th>\n",
       "      <td>John F Kennedy International Airport</td>\n",
       "      <td>JFK</td>\n",
       "      <td>259368</td>\n",
       "    </tr>\n",
       "    <tr>\n",
       "      <th>20</th>\n",
       "      <td>Philadelphia International Airport</td>\n",
       "      <td>PHL</td>\n",
       "      <td>233890</td>\n",
       "    </tr>\n",
       "  </tbody>\n",
       "</table>\n",
       "</div>"
      ],
      "text/plain": [
       "                                          AirportName IATAcode  NumberOfFlights\n",
       "1    Hartsfield Jackson Atlanta International Airport      ATL           780125\n",
       "2                Chicago O'Hare International Airport      ORD           665895\n",
       "3             Dallas Fort Worth International Airport      DFW           558570\n",
       "4                        Denver International Airport      DEN           472009\n",
       "5             Charlotte Douglas International Airport      CLT           466626\n",
       "6                   Los Angeles International Airport      LAX           443002\n",
       "7                 San Francisco International Airport      SFO           351788\n",
       "8            Phoenix Sky Harbor International Airport      PHX           347915\n",
       "9        George Bush Intercontinental Houston Airport      IAH           347588\n",
       "10                                 La Guardia Airport      LGA           342175\n",
       "11                     McCarran International Airport      LAS           322262\n",
       "12  Minneapolis-St Paul International/Wold-Chamber...      MSP           318740\n",
       "13          Detroit Metropolitan Wayne County Airport      DTW           315006\n",
       "14  General Edward Lawrence Logan International Ai...      BOS           296371\n",
       "15               Newark Liberty International Airport      EWR           287738\n",
       "16               Seattle Tacoma International Airport      SEA           280007\n",
       "17                      Orlando International Airport      MCO           276611\n",
       "18          Ronald Reagan Washington National Airport      DCA           265035\n",
       "19               John F Kennedy International Airport      JFK           259368\n",
       "20                 Philadelphia International Airport      PHL           233890"
      ]
     },
     "execution_count": 11,
     "metadata": {},
     "output_type": "execute_result"
    }
   ],
   "source": [
    "top_20_airports = spark.sql(\"\"\"SELECT * FROM flights f LEFT JOIN airports a\n",
    "                                ON a.iata_code = f.ORIGIN\"\"\").createOrReplaceTempView(\"top20A\")\n",
    "\n",
    "spark.sql(\"\"\"SELECT ORIGIN, DEST, name, iata_code\n",
    "                    FROM top20A\"\"\").createOrReplaceTempView(\"top20B\")\n",
    "spark.sql(\"\"\"SELECT name, COUNT(ORIGIN) AS cntO, ORIGIN FROM top20B GROUP BY ORIGIN, name\"\"\").createOrReplaceTempView(\"top20C\")\n",
    "spark.sql(\"\"\"SELECT COUNT(DEST) AS cntD, DEST FROM top20B GROUP BY DEST\"\"\").createOrReplaceTempView(\"top20D\")\n",
    "spark.sql(\"\"\"SELECT * FROM top20C c JOIN top20D d ON c.ORIGIN=d.DEST\"\"\").createOrReplaceTempView(\"top20E\")\n",
    "\n",
    "sum=spark.sql(\"\"\"SELECT  name as AirportName, ORIGIN as IATAcode, cntO+cntD AS NumberOfFlights\n",
    "                  FROM top20E\n",
    "                  ORDER BY NumberOfFlights DESC\n",
    "                  LIMIT 20\"\"\").toPandas()\n",
    "sum.index=sum.index+1\n",
    "sum\n"
   ]
  },
  {
   "cell_type": "markdown",
   "id": "b31863ee",
   "metadata": {
    "id": "b31863ee"
   },
   "source": [
    "### Top-20 days with more flights"
   ]
  },
  {
   "cell_type": "code",
   "execution_count": null,
   "id": "17444e94",
   "metadata": {
    "colab": {
     "base_uri": "https://localhost:8080/",
     "height": 676
    },
    "id": "17444e94",
    "outputId": "2c3b868e-8008-4e6e-93b4-37349ede06de"
   },
   "outputs": [
    {
     "data": {
      "text/html": [
       "<div>\n",
       "<style scoped>\n",
       "    .dataframe tbody tr th:only-of-type {\n",
       "        vertical-align: middle;\n",
       "    }\n",
       "\n",
       "    .dataframe tbody tr th {\n",
       "        vertical-align: top;\n",
       "    }\n",
       "\n",
       "    .dataframe thead th {\n",
       "        text-align: right;\n",
       "    }\n",
       "</style>\n",
       "<table border=\"1\" class=\"dataframe\">\n",
       "  <thead>\n",
       "    <tr style=\"text-align: right;\">\n",
       "      <th></th>\n",
       "      <th>FlightDate</th>\n",
       "      <th>NumberOfFlights</th>\n",
       "    </tr>\n",
       "  </thead>\n",
       "  <tbody>\n",
       "    <tr>\n",
       "      <th>1</th>\n",
       "      <td>2018-11-25</td>\n",
       "      <td>22160</td>\n",
       "    </tr>\n",
       "    <tr>\n",
       "      <th>2</th>\n",
       "      <td>2018-07-13</td>\n",
       "      <td>22022</td>\n",
       "    </tr>\n",
       "    <tr>\n",
       "      <th>3</th>\n",
       "      <td>2018-07-20</td>\n",
       "      <td>22002</td>\n",
       "    </tr>\n",
       "    <tr>\n",
       "      <th>4</th>\n",
       "      <td>2018-07-27</td>\n",
       "      <td>21997</td>\n",
       "    </tr>\n",
       "    <tr>\n",
       "      <th>5</th>\n",
       "      <td>2018-08-03</td>\n",
       "      <td>21990</td>\n",
       "    </tr>\n",
       "    <tr>\n",
       "      <th>6</th>\n",
       "      <td>2018-07-12</td>\n",
       "      <td>21966</td>\n",
       "    </tr>\n",
       "    <tr>\n",
       "      <th>7</th>\n",
       "      <td>2018-07-16</td>\n",
       "      <td>21958</td>\n",
       "    </tr>\n",
       "    <tr>\n",
       "      <th>8</th>\n",
       "      <td>2018-07-09</td>\n",
       "      <td>21956</td>\n",
       "    </tr>\n",
       "    <tr>\n",
       "      <th>9</th>\n",
       "      <td>2018-07-23</td>\n",
       "      <td>21955</td>\n",
       "    </tr>\n",
       "    <tr>\n",
       "      <th>10</th>\n",
       "      <td>2018-07-30</td>\n",
       "      <td>21952</td>\n",
       "    </tr>\n",
       "    <tr>\n",
       "      <th>11</th>\n",
       "      <td>2018-07-19</td>\n",
       "      <td>21944</td>\n",
       "    </tr>\n",
       "    <tr>\n",
       "      <th>12</th>\n",
       "      <td>2018-07-26</td>\n",
       "      <td>21934</td>\n",
       "    </tr>\n",
       "    <tr>\n",
       "      <th>13</th>\n",
       "      <td>2018-08-02</td>\n",
       "      <td>21927</td>\n",
       "    </tr>\n",
       "    <tr>\n",
       "      <th>14</th>\n",
       "      <td>2018-08-06</td>\n",
       "      <td>21907</td>\n",
       "    </tr>\n",
       "    <tr>\n",
       "      <th>15</th>\n",
       "      <td>2018-06-29</td>\n",
       "      <td>21906</td>\n",
       "    </tr>\n",
       "    <tr>\n",
       "      <th>16</th>\n",
       "      <td>2018-06-22</td>\n",
       "      <td>21873</td>\n",
       "    </tr>\n",
       "    <tr>\n",
       "      <th>17</th>\n",
       "      <td>2018-06-28</td>\n",
       "      <td>21836</td>\n",
       "    </tr>\n",
       "    <tr>\n",
       "      <th>18</th>\n",
       "      <td>2018-06-25</td>\n",
       "      <td>21829</td>\n",
       "    </tr>\n",
       "    <tr>\n",
       "      <th>19</th>\n",
       "      <td>2018-06-18</td>\n",
       "      <td>21823</td>\n",
       "    </tr>\n",
       "    <tr>\n",
       "      <th>20</th>\n",
       "      <td>2018-06-15</td>\n",
       "      <td>21822</td>\n",
       "    </tr>\n",
       "  </tbody>\n",
       "</table>\n",
       "</div>"
      ],
      "text/plain": [
       "    FlightDate  NumberOfFlights\n",
       "1   2018-11-25            22160\n",
       "2   2018-07-13            22022\n",
       "3   2018-07-20            22002\n",
       "4   2018-07-27            21997\n",
       "5   2018-08-03            21990\n",
       "6   2018-07-12            21966\n",
       "7   2018-07-16            21958\n",
       "8   2018-07-09            21956\n",
       "9   2018-07-23            21955\n",
       "10  2018-07-30            21952\n",
       "11  2018-07-19            21944\n",
       "12  2018-07-26            21934\n",
       "13  2018-08-02            21927\n",
       "14  2018-08-06            21907\n",
       "15  2018-06-29            21906\n",
       "16  2018-06-22            21873\n",
       "17  2018-06-28            21836\n",
       "18  2018-06-25            21829\n",
       "19  2018-06-18            21823\n",
       "20  2018-06-15            21822"
      ]
     },
     "execution_count": 12,
     "metadata": {},
     "output_type": "execute_result"
    }
   ],
   "source": [
    "top20F=spark.sql(\"\"\"SELECT FL_DATE as FlightDate, COUNT(FL_DATE) AS NumberOfFlights from flights\n",
    "          GROUP BY FlightDate\n",
    "          ORDER BY NumberOFFlights DESC\n",
    "          LIMIT 20\"\"\").toPandas()\n",
    "top20F.index=top20F.index+1\n",
    "top20F"
   ]
  },
  {
   "cell_type": "markdown",
   "id": "66b96cde",
   "metadata": {
    "id": "66b96cde"
   },
   "source": [
    "### Periods with more flights: morning (00:00-11:59, midday 12:00-17:59, evening 18:00-23:59)"
   ]
  },
  {
   "cell_type": "code",
   "execution_count": null,
   "id": "66e9f1b8",
   "metadata": {
    "colab": {
     "base_uri": "https://localhost:8080/",
     "height": 144
    },
    "id": "66e9f1b8",
    "outputId": "fc7d84d3-2d2f-446e-9b12-d42c276d374f"
   },
   "outputs": [
    {
     "data": {
      "text/html": [
       "<div>\n",
       "<style scoped>\n",
       "    .dataframe tbody tr th:only-of-type {\n",
       "        vertical-align: middle;\n",
       "    }\n",
       "\n",
       "    .dataframe tbody tr th {\n",
       "        vertical-align: top;\n",
       "    }\n",
       "\n",
       "    .dataframe thead th {\n",
       "        text-align: right;\n",
       "    }\n",
       "</style>\n",
       "<table border=\"1\" class=\"dataframe\">\n",
       "  <thead>\n",
       "    <tr style=\"text-align: right;\">\n",
       "      <th></th>\n",
       "      <th>Periods</th>\n",
       "      <th>Number of Flights</th>\n",
       "    </tr>\n",
       "  </thead>\n",
       "  <tbody>\n",
       "    <tr>\n",
       "      <th>1</th>\n",
       "      <td>Midday</td>\n",
       "      <td>3431463</td>\n",
       "    </tr>\n",
       "    <tr>\n",
       "      <th>0</th>\n",
       "      <td>Morning</td>\n",
       "      <td>3231567</td>\n",
       "    </tr>\n",
       "    <tr>\n",
       "      <th>2</th>\n",
       "      <td>Evening</td>\n",
       "      <td>2599931</td>\n",
       "    </tr>\n",
       "  </tbody>\n",
       "</table>\n",
       "</div>"
      ],
      "text/plain": [
       "   Periods  Number of Flights\n",
       "1   Midday            3431463\n",
       "0  Morning            3231567\n",
       "2  Evening            2599931"
      ]
     },
     "execution_count": 13,
     "metadata": {},
     "output_type": "execute_result"
    }
   ],
   "source": [
    "flights=flightsDF.withColumnRenamed(\"OP_CARRIER_FL_NUM\",\"FlightNumber\")\\\n",
    "                                    .withColumnRenamed(\"DEP_TIME\",\"DepartureTime\")\\\n",
    "                                    .withColumnRenamed(\"ARR_TIME\",\"ArrivalTime\")\n",
    "\n",
    "flights1=flights.select(\"FlightNumber\", \"DepartureTime\", \"ArrivalTime\")\n",
    "morning=flights1.filter(\"DepartureTime between '00:00' and '11:59' or ArrivalTime between '00:00' and '11:59' \").count()\n",
    "midday=flights1.filter(\"DepartureTime between '12:00' and '17:59' or ArrivalTime between '12:00' and '17:59' \").count()\n",
    "evening=flights1.filter(\"DepartureTime between '18:00' and '23:59' or ArrivalTime between '18:00' and '23:59' \").count()\n",
    "periods = {'Periods': ['Morning', 'Midday', 'Evening'], 'Number of Flights': [morning, midday, evening]}\n",
    "pd.DataFrame(periods).sort_values(by=[\"Number of Flights\"], ascending=False)\n",
    "\n",
    "#the calculation of the flights for each period was made considering the period of arrival and the period of departure.\n",
    "#if the flight departed and arrived in two different periods, it is counted twice (once for each period)\n",
    "#while if the flight departed and arrived in the same period, it is counted only once.\n"
   ]
  },
  {
   "cell_type": "markdown",
   "id": "f9807206",
   "metadata": {
    "id": "f9807206"
   },
   "source": [
    "### Top-20 airports with longer delays"
   ]
  },
  {
   "cell_type": "code",
   "execution_count": null,
   "id": "0c1ce622",
   "metadata": {
    "colab": {
     "base_uri": "https://localhost:8080/",
     "height": 676
    },
    "id": "0c1ce622",
    "outputId": "2e6b5fea-ee6e-4e6c-9ba6-2537bc379ca6"
   },
   "outputs": [
    {
     "data": {
      "text/html": [
       "<div>\n",
       "<style scoped>\n",
       "    .dataframe tbody tr th:only-of-type {\n",
       "        vertical-align: middle;\n",
       "    }\n",
       "\n",
       "    .dataframe tbody tr th {\n",
       "        vertical-align: top;\n",
       "    }\n",
       "\n",
       "    .dataframe thead th {\n",
       "        text-align: right;\n",
       "    }\n",
       "</style>\n",
       "<table border=\"1\" class=\"dataframe\">\n",
       "  <thead>\n",
       "    <tr style=\"text-align: right;\">\n",
       "      <th></th>\n",
       "      <th>AirportName</th>\n",
       "      <th>Delay</th>\n",
       "    </tr>\n",
       "  </thead>\n",
       "  <tbody>\n",
       "    <tr>\n",
       "      <th>1</th>\n",
       "      <td>Devils Lake Regional Airport</td>\n",
       "      <td>138.42</td>\n",
       "    </tr>\n",
       "    <tr>\n",
       "      <th>2</th>\n",
       "      <td>Pago Pago International Airport</td>\n",
       "      <td>106.45</td>\n",
       "    </tr>\n",
       "    <tr>\n",
       "      <th>3</th>\n",
       "      <td>Jamestown Regional Airport</td>\n",
       "      <td>104.86</td>\n",
       "    </tr>\n",
       "    <tr>\n",
       "      <th>4</th>\n",
       "      <td>Houghton County Memorial Airport</td>\n",
       "      <td>99.82</td>\n",
       "    </tr>\n",
       "    <tr>\n",
       "      <th>5</th>\n",
       "      <td>Rhinelander Oneida County Airport</td>\n",
       "      <td>96.75</td>\n",
       "    </tr>\n",
       "    <tr>\n",
       "      <th>6</th>\n",
       "      <td>Greenbrier Valley Airport</td>\n",
       "      <td>95.56</td>\n",
       "    </tr>\n",
       "    <tr>\n",
       "      <th>7</th>\n",
       "      <td>Salina Municipal Airport</td>\n",
       "      <td>94.35</td>\n",
       "    </tr>\n",
       "    <tr>\n",
       "      <th>8</th>\n",
       "      <td>Shenandoah Valley Regional Airport</td>\n",
       "      <td>89.89</td>\n",
       "    </tr>\n",
       "    <tr>\n",
       "      <th>9</th>\n",
       "      <td>North Central West Virginia Airport</td>\n",
       "      <td>88.91</td>\n",
       "    </tr>\n",
       "    <tr>\n",
       "      <th>10</th>\n",
       "      <td>Ithaca Tompkins Regional Airport</td>\n",
       "      <td>88.40</td>\n",
       "    </tr>\n",
       "    <tr>\n",
       "      <th>11</th>\n",
       "      <td>Santa Fe Municipal Airport</td>\n",
       "      <td>86.85</td>\n",
       "    </tr>\n",
       "    <tr>\n",
       "      <th>12</th>\n",
       "      <td>Eagle County Regional Airport</td>\n",
       "      <td>85.35</td>\n",
       "    </tr>\n",
       "    <tr>\n",
       "      <th>13</th>\n",
       "      <td>Chippewa Valley Regional Airport</td>\n",
       "      <td>85.29</td>\n",
       "    </tr>\n",
       "    <tr>\n",
       "      <th>14</th>\n",
       "      <td>Hays Regional Airport</td>\n",
       "      <td>84.97</td>\n",
       "    </tr>\n",
       "    <tr>\n",
       "      <th>15</th>\n",
       "      <td>Liberal Mid-America Regional Airport</td>\n",
       "      <td>84.57</td>\n",
       "    </tr>\n",
       "    <tr>\n",
       "      <th>16</th>\n",
       "      <td>Erie International Tom Ridge Field</td>\n",
       "      <td>84.28</td>\n",
       "    </tr>\n",
       "    <tr>\n",
       "      <th>17</th>\n",
       "      <td>Laramie Regional Airport</td>\n",
       "      <td>83.41</td>\n",
       "    </tr>\n",
       "    <tr>\n",
       "      <th>18</th>\n",
       "      <td>Pueblo Memorial Airport</td>\n",
       "      <td>83.10</td>\n",
       "    </tr>\n",
       "    <tr>\n",
       "      <th>19</th>\n",
       "      <td>Hattiesburg Laurel Regional Airport</td>\n",
       "      <td>82.32</td>\n",
       "    </tr>\n",
       "    <tr>\n",
       "      <th>20</th>\n",
       "      <td>Mammoth Yosemite Airport</td>\n",
       "      <td>81.98</td>\n",
       "    </tr>\n",
       "  </tbody>\n",
       "</table>\n",
       "</div>"
      ],
      "text/plain": [
       "                             AirportName   Delay\n",
       "1           Devils Lake Regional Airport  138.42\n",
       "2        Pago Pago International Airport  106.45\n",
       "3             Jamestown Regional Airport  104.86\n",
       "4       Houghton County Memorial Airport   99.82\n",
       "5      Rhinelander Oneida County Airport   96.75\n",
       "6              Greenbrier Valley Airport   95.56\n",
       "7               Salina Municipal Airport   94.35\n",
       "8     Shenandoah Valley Regional Airport   89.89\n",
       "9    North Central West Virginia Airport   88.91\n",
       "10      Ithaca Tompkins Regional Airport   88.40\n",
       "11            Santa Fe Municipal Airport   86.85\n",
       "12         Eagle County Regional Airport   85.35\n",
       "13      Chippewa Valley Regional Airport   85.29\n",
       "14                 Hays Regional Airport   84.97\n",
       "15  Liberal Mid-America Regional Airport   84.57\n",
       "16    Erie International Tom Ridge Field   84.28\n",
       "17              Laramie Regional Airport   83.41\n",
       "18               Pueblo Memorial Airport   83.10\n",
       "19   Hattiesburg Laurel Regional Airport   82.32\n",
       "20              Mammoth Yosemite Airport   81.98"
      ]
     },
     "execution_count": 14,
     "metadata": {},
     "output_type": "execute_result"
    }
   ],
   "source": [
    "top_20_airports = spark.sql(\"\"\"SELECT * FROM flights f LEFT JOIN airports a\n",
    "                                ON a.iata_code = f.ORIGIN\"\"\").createOrReplaceTempView(\"top20A\")\n",
    "\n",
    "top20D=spark.sql(\"\"\"SELECT name as AirportName, BROUND(MEAN(DEP_DELAY),2) AS Delay FROM top20A\n",
    "              WHERE DEP_DELAY>0\n",
    "              GROUP BY name\n",
    "              ORDER BY Delay DESC\n",
    "              LIMIT 20\"\"\").toPandas()\n",
    "top20D.index=top20D.index+1\n",
    "top20D\n"
   ]
  },
  {
   "cell_type": "markdown",
   "id": "f39a9e96",
   "metadata": {
    "id": "f39a9e96"
   },
   "source": [
    "### Top 10 carriers with longer delays"
   ]
  },
  {
   "cell_type": "code",
   "execution_count": null,
   "id": "8859452d",
   "metadata": {
    "colab": {
     "base_uri": "https://localhost:8080/",
     "height": 362
    },
    "id": "8859452d",
    "outputId": "5d3fd405-95b0-4f9d-d84b-1d104f20d29f"
   },
   "outputs": [
    {
     "data": {
      "text/html": [
       "<div>\n",
       "<style scoped>\n",
       "    .dataframe tbody tr th:only-of-type {\n",
       "        vertical-align: middle;\n",
       "    }\n",
       "\n",
       "    .dataframe tbody tr th {\n",
       "        vertical-align: top;\n",
       "    }\n",
       "\n",
       "    .dataframe thead th {\n",
       "        text-align: right;\n",
       "    }\n",
       "</style>\n",
       "<table border=\"1\" class=\"dataframe\">\n",
       "  <thead>\n",
       "    <tr style=\"text-align: right;\">\n",
       "      <th></th>\n",
       "      <th>Carriers</th>\n",
       "      <th>Delay</th>\n",
       "    </tr>\n",
       "  </thead>\n",
       "  <tbody>\n",
       "    <tr>\n",
       "      <th>1</th>\n",
       "      <td>EV</td>\n",
       "      <td>61.87</td>\n",
       "    </tr>\n",
       "    <tr>\n",
       "      <th>2</th>\n",
       "      <td>OO</td>\n",
       "      <td>54.69</td>\n",
       "    </tr>\n",
       "    <tr>\n",
       "      <th>3</th>\n",
       "      <td>9E</td>\n",
       "      <td>53.95</td>\n",
       "    </tr>\n",
       "    <tr>\n",
       "      <th>4</th>\n",
       "      <td>YV</td>\n",
       "      <td>51.56</td>\n",
       "    </tr>\n",
       "    <tr>\n",
       "      <th>5</th>\n",
       "      <td>F9</td>\n",
       "      <td>50.86</td>\n",
       "    </tr>\n",
       "    <tr>\n",
       "      <th>6</th>\n",
       "      <td>G4</td>\n",
       "      <td>49.59</td>\n",
       "    </tr>\n",
       "    <tr>\n",
       "      <th>7</th>\n",
       "      <td>B6</td>\n",
       "      <td>47.01</td>\n",
       "    </tr>\n",
       "    <tr>\n",
       "      <th>8</th>\n",
       "      <td>YX</td>\n",
       "      <td>46.78</td>\n",
       "    </tr>\n",
       "    <tr>\n",
       "      <th>9</th>\n",
       "      <td>NK</td>\n",
       "      <td>46.66</td>\n",
       "    </tr>\n",
       "    <tr>\n",
       "      <th>10</th>\n",
       "      <td>UA</td>\n",
       "      <td>45.34</td>\n",
       "    </tr>\n",
       "  </tbody>\n",
       "</table>\n",
       "</div>"
      ],
      "text/plain": [
       "   Carriers  Delay\n",
       "1        EV  61.87\n",
       "2        OO  54.69\n",
       "3        9E  53.95\n",
       "4        YV  51.56\n",
       "5        F9  50.86\n",
       "6        G4  49.59\n",
       "7        B6  47.01\n",
       "8        YX  46.78\n",
       "9        NK  46.66\n",
       "10       UA  45.34"
      ]
     },
     "execution_count": 15,
     "metadata": {},
     "output_type": "execute_result"
    }
   ],
   "source": [
    "top10C=spark.sql(\"\"\"SELECT OP_CARRIER as Carriers, BROUND(MEAN(DEP_DELAY),2) AS Delay FROM flights\n",
    "              WHERE DEP_DELAY>0\n",
    "              GROUP BY OP_CARRIER\n",
    "              ORDER BY Delay DESC\n",
    "              LIMIT 10\"\"\").toPandas()\n",
    "top10C.index=top10C.index+1\n",
    "top10C\n"
   ]
  },
  {
   "cell_type": "markdown",
   "id": "a4d1a5b6",
   "metadata": {
    "id": "a4d1a5b6"
   },
   "source": [
    "### Longer delays by period: morning (00:00-11:59, midday 12:00-17:59, evening 18:00-23:59)\n"
   ]
  },
  {
   "cell_type": "code",
   "execution_count": null,
   "id": "1669be19",
   "metadata": {
    "colab": {
     "base_uri": "https://localhost:8080/",
     "height": 144
    },
    "id": "1669be19",
    "outputId": "a69bac8b-c979-4110-80ff-4cfbe8fe9785"
   },
   "outputs": [
    {
     "data": {
      "text/html": [
       "<div>\n",
       "<style scoped>\n",
       "    .dataframe tbody tr th:only-of-type {\n",
       "        vertical-align: middle;\n",
       "    }\n",
       "\n",
       "    .dataframe tbody tr th {\n",
       "        vertical-align: top;\n",
       "    }\n",
       "\n",
       "    .dataframe thead th {\n",
       "        text-align: right;\n",
       "    }\n",
       "</style>\n",
       "<table border=\"1\" class=\"dataframe\">\n",
       "  <thead>\n",
       "    <tr style=\"text-align: right;\">\n",
       "      <th></th>\n",
       "      <th>Periods</th>\n",
       "      <th>AverageDelay</th>\n",
       "    </tr>\n",
       "  </thead>\n",
       "  <tbody>\n",
       "    <tr>\n",
       "      <th>0</th>\n",
       "      <td>Morning</td>\n",
       "      <td>32.46</td>\n",
       "    </tr>\n",
       "    <tr>\n",
       "      <th>1</th>\n",
       "      <td>Midday</td>\n",
       "      <td>29.07</td>\n",
       "    </tr>\n",
       "    <tr>\n",
       "      <th>2</th>\n",
       "      <td>Evening</td>\n",
       "      <td>40.27</td>\n",
       "    </tr>\n",
       "  </tbody>\n",
       "</table>\n",
       "</div>"
      ],
      "text/plain": [
       "   Periods  AverageDelay\n",
       "0  Morning         32.46\n",
       "1   Midday         29.07\n",
       "2  Evening         40.27"
      ]
     },
     "execution_count": 16,
     "metadata": {},
     "output_type": "execute_result"
    }
   ],
   "source": [
    "flights=flightsDF.withColumnRenamed(\"OP_CARRIER_FL_NUM\",\"FlightNumber\")\\\n",
    "                  .withColumnRenamed(\"DEP_TIME\",\"DepartureTime\")\\\n",
    "                  .withColumnRenamed(\"ARR_TIME\",\"ArrivalTime\")\\\n",
    "                  .withColumnRenamed(\"DEP_DELAY\",\"DepartureDelay\")\n",
    "\n",
    "flights1=flights.select(\"FlightNumber\", \"DepartureTime\", \"ArrivalTime\", \"DepartureDelay\")\n",
    "flights1 = flights1.withColumn('Periods',lit(flights1.filter(\"DepartureTime between '00:00' and '11:59' and ArrivalTime between '00:00' and '11:59'\")=='morning'))\n",
    "\n",
    "morning=flights1.filter(\"DepartureTime between '00:00' and '11:59' or ArrivalTime between '00:00' and '11:59' \").where(flights1.DepartureDelay>=0).select(bround(mean(\"DepartureDelay\"),2)).collect()[0][0]\n",
    "midday=flights1.filter(\"DepartureTime between '12:00' and '17:59' or ArrivalTime between '12:00' and '17:59' \").where(flights1.DepartureDelay>=0).select(bround(mean(\"DepartureDelay\"),2)).collect()[0][0]\n",
    "evening=flights1.filter(\"DepartureTime between '18:00' and '23:59' or ArrivalTime between '18:00' and '23:59' \").where(flights1.DepartureDelay>=0).select(bround(mean(\"DepartureDelay\"),2)).collect()[0][0]\n",
    "\n",
    "delaysPeriods = {'Periods': ['Morning', 'Midday', 'Evening'], 'AverageDelay': [morning, midday, evening]}\n",
    "pd.DataFrame(delaysPeriods)\n"
   ]
  },
  {
   "cell_type": "markdown",
   "id": "cbb581e1",
   "metadata": {
    "id": "cbb581e1"
   },
   "source": [
    "## Problem 2 [4 points]\n",
    "\n",
    "Assume you want to create a web site to help travellers get information about flight delays. The web site would allow a user to find out information about delays for the flight she want to take. \n",
    "The information about delays should include at least 3 statistics - suggestion: the average delay in the same route of the same carrier in the last 7 days, 30 days, 365 days, similar but considering only flights in the same week day, similar but considering flights in the same week day, but excluding holidays, etc.\n",
    "\n",
    "To support this web site, it would be necessary to build one or more indices that would be used to answer the query of the user.\n",
    "\n",
    "Write the code to build these indices - for each index, print 5 lines."
   ]
  },
  {
   "cell_type": "code",
   "execution_count": null,
   "id": "d1672a83",
   "metadata": {
    "colab": {
     "base_uri": "https://localhost:8080/"
    },
    "id": "d1672a83",
    "outputId": "298e3b2a-58a7-4bc6-968d-8c890ec6f9e1"
   },
   "outputs": [
    {
     "name": "stdout",
     "output_type": "stream",
     "text": [
      "+----------+----------+-----------------+------+----+------------+--------+---------+--------+----------+---------+-------+------------+--------+---------+---------+-----------------+--------+----------------+-------------------+--------+--------+-------------+-------------+---------+--------------+-------------------+\n",
      "|   FL_DATE|OP_CARRIER|OP_CARRIER_FL_NUM|ORIGIN|DEST|CRS_DEP_TIME|DEP_TIME|DEP_DELAY|TAXI_OUT|WHEELS_OFF|WHEELS_ON|TAXI_IN|CRS_ARR_TIME|ARR_TIME|ARR_DELAY|CANCELLED|CANCELLATION_CODE|DIVERTED|CRS_ELAPSED_TIME|ACTUAL_ELAPSED_TIME|AIR_TIME|DISTANCE|CARRIER_DELAY|WEATHER_DELAY|NAS_DELAY|SECURITY_DELAY|LATE_AIRCRAFT_DELAY|\n",
      "+----------+----------+-----------------+------+----+------------+--------+---------+--------+----------+---------+-------+------------+--------+---------+---------+-----------------+--------+----------------+-------------------+--------+--------+-------------+-------------+---------+--------------+-------------------+\n",
      "|2018-01-01|        UA|             2429|   EWR| DEN|       15:17|   15:12|       -5|      15|     15:27|    17:12|     10|       17:45|   17:22|      -23|        0|             null|       0|             268|                250|     225|    1605|         null|         null|     null|          null|               null|\n",
      "|2018-01-01|        UA|             2427|   LAS| SFO|       11:15|   11:07|       -8|      11|     11:18|    12:23|      7|       12:54|   12:30|      -24|        0|             null|       0|              99|                 83|      65|     414|         null|         null|     null|          null|               null|\n",
      "|2018-01-01|        UA|             2426|   SNA| DEN|       13:35|   13:30|       -5|      15|     13:45|    16:31|      5|       16:49|   16:36|      -13|        0|             null|       0|             134|                126|     106|     846|         null|         null|     null|          null|               null|\n",
      "+----------+----------+-----------------+------+----+------------+--------+---------+--------+----------+---------+-------+------------+--------+---------+---------+-----------------+--------+----------------+-------------------+--------+--------+-------------+-------------+---------+--------------+-------------------+\n",
      "only showing top 3 rows\n",
      "\n",
      "+------+----+----------+-----------+\n",
      "|ORIGIN|DEST|OP_CARRIER|WeeklyDelay|\n",
      "+------+----+----------+-----------+\n",
      "|   DEN| CMH|        YX|      292.0|\n",
      "|   CMH| LGA|        DL|      279.0|\n",
      "|   DTW| CHA|        9E|      276.0|\n",
      "|   DFW| IAD|        YX|      245.0|\n",
      "|   MSP| RAP|        9E|     224.25|\n",
      "+------+----+----------+-----------+\n",
      "only showing top 5 rows\n",
      "\n",
      "+------+----+----------+------------+\n",
      "|ORIGIN|DEST|OP_CARRIER|MonthlyDelay|\n",
      "+------+----+----------+------------+\n",
      "|   DEN| CMH|        YX|       292.0|\n",
      "|   CMH| LGA|        DL|       279.0|\n",
      "|   DTW| CHA|        9E|       276.0|\n",
      "|   DFW| IAD|        YX|       245.0|\n",
      "|   MSP| RAP|        9E|      224.25|\n",
      "+------+----+----------+------------+\n",
      "only showing top 5 rows\n",
      "\n",
      "+------+----+----------+-----------+\n",
      "|ORIGIN|DEST|OP_CARRIER|AnnualDelay|\n",
      "+------+----+----------+-----------+\n",
      "|   RDM| MFR|        OO|     1347.0|\n",
      "|   MDT| HPN|        EV|      798.0|\n",
      "|   PHX| TUL|        F9|      443.0|\n",
      "|   DTW| TUL|        EV|      421.5|\n",
      "|   CMH| LGA|        DL|      279.0|\n",
      "+------+----+----------+-----------+\n",
      "only showing top 5 rows\n",
      "\n",
      "+------+----+----------+------------+-----------+\n",
      "|ORIGIN|DEST|OP_CARRIER|CarrierDelay|DayCategory|\n",
      "+------+----+----------+------------+-----------+\n",
      "|   TYS| EWR|        UA|       -2.22|    Holiday|\n",
      "|   IAD| IAH|        UA|        5.97|    Holiday|\n",
      "|   IAD| SMF|        UA|        4.38|    Holiday|\n",
      "|   ANC| SEA|        AS|       -8.72|    Holiday|\n",
      "|   OAK| PDX|        AS|      -25.13|    Holiday|\n",
      "+------+----+----------+------------+-----------+\n",
      "only showing top 5 rows\n",
      "\n",
      "+-------------+------------------+-----------+-----------+-----------+------------+-----------+------------+\n",
      "|OriginAirport|DestinationAirport|CarrierCode|DayCategory|WeeklyDelay|MonthlyDelay|AnnualDelay|CarrierDelay|\n",
      "+-------------+------------------+-----------+-----------+-----------+------------+-----------+------------+\n",
      "|          MSO|               ORD|         MQ|    Holiday|       6.86|       25.27|      21.71|       561.5|\n",
      "|          RFD|               LAS|         G4|    Weekend|      14.75|       16.71|       5.55|       467.0|\n",
      "|          MSP|               RAP|         9E|    Holiday|     224.25|      224.25|     224.25|       454.5|\n",
      "|          FSD|               ORD|         UA|    Holiday|      21.46|       21.46|      21.46|       387.0|\n",
      "|          BMI|               DEN|         F9|    Holiday|       72.1|        72.1|       72.1|       383.0|\n",
      "+-------------+------------------+-----------+-----------+-----------+------------+-----------+------------+\n",
      "only showing top 5 rows\n",
      "\n",
      "\n",
      "InfoPoint: Flight Delays\n",
      "Please insert the carrier code you want information about(e.g. XE): XE\n",
      "Please insert the Iata code of the Origin Airport (e.g. DCE): DCE\n",
      "Please insert the Iata code of the Destination Airport (e.g. EWR): EWR\n",
      "+-------------+------------------+-----------+-----------+-----------+------------+-----------+------------+\n",
      "|OriginAirport|DestinationAirport|CarrierCode|DayCategory|WeeklyDelay|MonthlyDelay|AnnualDelay|CarrierDelay|\n",
      "+-------------+------------------+-----------+-----------+-----------+------------+-----------+------------+\n",
      "+-------------+------------------+-----------+-----------+-----------+------------+-----------+------------+\n",
      "\n",
      "No information found. Try to put another connection\n"
     ]
    }
   ],
   "source": [
    "from pyspark.sql.functions import udf,desc\n",
    "from datetime import datetime\n",
    "from pyspark.sql.functions import date_format\n",
    "\n",
    "flightsDF1 = spark.read.option(\"header\", True).schema(flightsSchema).csv(FLIGHTS_FILENAME)\n",
    "flightsDF1.createOrReplaceTempView(\"flights\")\n",
    "flightsDF1.show(3)\n",
    "\n",
    "\n",
    "#Holiday + Flights dataset\n",
    "df1 = spark.sql(\"\"\"SELECT * \n",
    "                      FROM flights f\n",
    "                      LEFT JOIN holidays h on h.Date = f.FL_DATE\n",
    "                      \"\"\")\n",
    "WeekDay =  udf(lambda x: datetime.strptime(str(x), '%Y-%m-%d').strftime('%w'))\n",
    "DayCategory=udf(lambda x: 'Weekend' if int(x) > 5 else 'Weekday' )\n",
    "Holiday =  udf(lambda x,y: y if x is None else 'Holiday')\n",
    "\n",
    "df1 = df1.withColumn('WeekDay', WeekDay(df1['FL_DATE']))\n",
    "df1 = df1.withColumn('DayCategory', DayCategory(df1['WeekDay']))\n",
    "df1 = df1.withColumn('DayCategory', Holiday(df1['Holiday'],df1['DayCategory']))\n",
    "df1.createOrReplaceTempView(\"complete\")\n",
    "\n",
    "#COMPUTE DELAYS STATISTICS \n",
    "delay_7day = spark.sql(\"\"\"SELECT ORIGIN, DEST, OP_CARRIER, ROUND(AVG(ARR_DELAY),2) as WeeklyDelay \n",
    "                          FROM (SELECT * FROM flights WHERE CANCELLED = 0 AND  FL_DATE+7 > '2018-07-15') d \n",
    "                          GROUP BY ORIGIN, DEST, OP_CARRIER \n",
    "                          ORDER BY WeeklyDelay DESC\"\"\")\n",
    "delay_7day.createOrReplaceTempView(\"partial_7\")\n",
    "delay_7day.show(5)\n",
    "\n",
    "delay_30day = spark.sql(\"\"\"SELECT ORIGIN, DEST, OP_CARRIER, ROUND(AVG(ARR_DELAY),2 ) as MonthlyDelay\n",
    "                            FROM (SELECT * FROM flights WHERE CANCELLED = 0 AND  FL_DATE+30 > '2018-07-15') d \n",
    "                            GROUP BY ORIGIN, DEST, OP_CARRIER \n",
    "                            ORDER BY MonthlyDelay DESC\n",
    "                            \"\"\")\n",
    "delay_30day.createOrReplaceTempView(\"partial_30\")\n",
    "delay_30day.show(5)\n",
    "\n",
    "delay_365day = spark.sql(\"\"\"SELECT ORIGIN, DEST, OP_CARRIER, ROUND(AVG(ARR_DELAY),2 ) as AnnualDelay\n",
    "                            FROM (SELECT * FROM flights WHERE CANCELLED = 0 AND  FL_DATE+365 > '2018-07-15') d \n",
    "                            GROUP BY ORIGIN, DEST, OP_CARRIER \n",
    "                            ORDER BY AnnualDelay DESC\n",
    "                            \"\"\")\n",
    "delay_365day.createOrReplaceTempView(\"partial_365\")\n",
    "delay_365day.show(5)\n",
    "\n",
    "delay_carrier = spark.sql(\"\"\"SELECT ORIGIN, DEST, OP_CARRIER, ROUND(AVG(ARR_DELAY),2 ) as CarrierDelay, DayCategory\n",
    "                             FROM (SELECT * FROM complete WHERE CANCELLED = 0) d \n",
    "                             GROUP BY ORIGIN, DEST, OP_CARRIER, DayCategory\"\"\")\n",
    "delay_carrier.createOrReplaceTempView(\"partial_carrier\")\n",
    "delay_carrier.show(5)\n",
    "\n",
    "#Create a DataFrame with all the info/indices about delays\n",
    "finalDF = spark.sql(\"\"\"SELECT a.ORIGIN as OriginAirport, a.DEST as DestinationAirport, a.OP_CARRIER as CarrierCode, DayCategory, WeeklyDelay, MonthlyDelay, AnnualDelay, CarrierDelay\n",
    "                   FROM partial_7 a \n",
    "                   LEFT JOIN partial_30 b \n",
    "                   ON a.ORIGIN = b.ORIGIN \n",
    "                   AND a.DEST = b.DEST \n",
    "                   AND a.OP_CARRIER = b.OP_CARRIER\n",
    "                   LEFT JOIN partial_365 c \n",
    "                   ON a.ORIGIN = c.ORIGIN \n",
    "                   AND a.DEST = c.DEST \n",
    "                   AND a.OP_CARRIER = c.OP_CARRIER\n",
    "                   LEFT JOIN partial_carrier d \n",
    "                   ON a.ORIGIN = d.ORIGIN \n",
    "                   AND a.DEST = d.DEST \n",
    "                   AND a.OP_CARRIER = d.OP_CARRIER\n",
    "                   ORDER BY CarrierDelay DESC\"\"\")\n",
    "finalDF.show(5)\n",
    "finalDF.createOrReplaceTempView(\"answer\")\n",
    "\n",
    "print(\"\\nInfoPoint: Flight Delays\")\n",
    "carrier= input(\"Please insert the carrier code you want information about(e.g. XE): \")\n",
    "or_airport = input(\"Please insert the Iata code of the Origin Airport (e.g. DCE): \").upper()\n",
    "de_airport = input(\"Please insert the Iata code of the Destination Airport (e.g. EWR): \").upper()\n",
    "\n",
    "user_queries = f\"\"\"SELECT * FROM answer f \n",
    "            WHERE \"{carrier}\" = f.CarrierCode \n",
    "            AND \"{or_airport}\" = f.OriginAirport \n",
    "            AND \"{de_airport}\" = f.DestinationAirport \n",
    "            ORDER BY CarrierDelay DESC\"\"\"\n",
    "\n",
    "final_answer = spark.sql(user_queries)\n",
    "final_answer.show(5)\n",
    "\n",
    "if len(final_answer.head(1)) > 0: \n",
    "  best_carrier = final_answer.first().CarrierCode\n",
    "  day_category =final_answer.first().DayCategory \n",
    "  print(f'The best option to travel is with {best_carrier}, on a {DayCategory} !') \n",
    "else:\n",
    "  print('No information found. Try to put another connection')            "
   ]
  },
  {
   "cell_type": "markdown",
   "id": "9204ebac",
   "metadata": {
    "id": "9204ebac"
   },
   "source": [
    "#### Discussion\n",
    "\n",
    "Firstly,  before computing the several statistics about delays, we created the complete dataframe following these steps: \n",
    "1. We merged the general dataframe \"flights\" with the \"holidays\" dataframe on the respective Date variables in order to include all the useful information.\n",
    "\n",
    "2. We created additional columns to classify the date in Weekday/Weekend, Holiday/Non-holiday, Week-day (Monday, Tuesday etc.) and we added them to the general dataframe.\n",
    "\n",
    "3. We computed 4 statistics to measure average arrival delay. We used ARR_DELAY since this measure is more useful to the user compared to DEP_DELAY. The specific code for those statistics doesn't consider cancelled flights and eeach average value is computed over a window of 7/30/365 days or based on Carrier. For the average in windows, we used the last date of the dataframe. \n",
    "\n",
    "4. At the end we merged all the information in the Final Dataframe (finalDF) in ascending order of delays. \n",
    "\n",
    "5. Focusing on the interaction side, we created user queries for the main variables, explained below. Then we created an ad-hoc dataframe for the user queries.\n",
    "\n",
    "The user will have to ask for the origin and destination airport, which carrier she/he wants to leave with. This code has been run with the 2018 year dataset."
   ]
  },
  {
   "cell_type": "markdown",
   "id": "822b0e6d",
   "metadata": {
    "id": "822b0e6d"
   },
   "source": [
    "## Problem 3 [4 points]\n",
    "\n",
    "Transform the flights data to include a class, depending on the delay - SHORT, LONG - depending on whether the departure delay was less than 10 minutes, or greater or equal to 10 minutes.\n",
    "\n",
    "Build and evaluate a classification model for the data.\n"
   ]
  },
  {
   "cell_type": "code",
   "execution_count": null,
   "id": "6ed0db82",
   "metadata": {
    "colab": {
     "base_uri": "https://localhost:8080/"
    },
    "id": "6ed0db82",
    "outputId": "4c96f840-8e68-4194-81e3-c658024eebe5"
   },
   "outputs": [
    {
     "name": "stdout",
     "output_type": "stream",
     "text": [
      "root\n",
      " |-- DISTANCE: integer (nullable = true)\n",
      " |-- OP_CARRIERindex: double (nullable = false)\n",
      " |-- ORIGINindex: double (nullable = false)\n",
      " |-- DESTindex: double (nullable = false)\n",
      " |-- CRS_DEP_TIMEindex: double (nullable = false)\n",
      " |-- CRS_ARR_TIMEindex: double (nullable = false)\n",
      " |-- ClassDelayindex: double (nullable = false)\n",
      "\n",
      "+--------+---------------+-----------+---------+-----------------+-----------------+---------------+\n",
      "|DISTANCE|OP_CARRIERindex|ORIGINindex|DESTindex|CRS_DEP_TIMEindex|CRS_ARR_TIMEindex|ClassDelayindex|\n",
      "+--------+---------------+-----------+---------+-----------------+-----------------+---------------+\n",
      "|    1605|            4.0|       14.0|      3.0|            395.0|             90.0|            0.0|\n",
      "|     414|            4.0|       10.0|      6.0|             47.0|            410.0|            0.0|\n",
      "|     846|            4.0|       46.0|      3.0|            140.0|            220.0|            0.0|\n",
      "|    1120|            4.0|       49.0|      1.0|            629.0|            518.0|            0.0|\n",
      "|     723|            4.0|        1.0|     89.0|              4.0|            875.0|            1.0|\n",
      "|     416|            4.0|        1.0|     56.0|            989.0|           1043.0|            0.0|\n",
      "|    1222|            4.0|        8.0|     10.0|             89.0|            532.0|            0.0|\n",
      "|     692|            4.0|        3.0|    103.0|            523.0|            277.0|            0.0|\n",
      "|    2500|            4.0|       44.0|     14.0|            709.0|           1072.0|            1.0|\n",
      "|    1482|            4.0|       61.0|      3.0|            473.0|            488.0|            0.0|\n",
      "|    2434|            4.0|       32.0|     14.0|            205.0|           1055.0|            0.0|\n",
      "|     316|            4.0|        1.0|     43.0|            236.0|            863.0|            1.0|\n",
      "|    2434|            4.0|       14.0|     32.0|             29.0|            145.0|            0.0|\n",
      "|     746|            4.0|       14.0|      0.0|            553.0|            396.0|            1.0|\n",
      "|     763|            4.0|        1.0|    100.0|            920.0|            374.0|            1.0|\n",
      "|    2218|            4.0|       16.0|      5.0|            957.0|             68.0|            1.0|\n",
      "|    2500|            4.0|       14.0|     44.0|            174.0|            697.0|            1.0|\n",
      "|    1068|            4.0|       49.0|     14.0|            109.0|            547.0|            1.0|\n",
      "|    1265|            4.0|        8.0|    153.0|             57.0|            570.0|            0.0|\n",
      "|     631|            4.0|       76.0|     14.0|            444.0|            483.0|            0.0|\n",
      "+--------+---------------+-----------+---------+-----------------+-----------------+---------------+\n",
      "only showing top 20 rows\n",
      "\n"
     ]
    }
   ],
   "source": [
    "from pyspark.sql import functions as f\n",
    "\n",
    "a=flightsDF.withColumn('ClassDelay', f.when(f.col('DEP_DELAY') >= 10, \"Long\").otherwise(\"Short\"))\n",
    "\n",
    "a = a.select(['ClassDelay', 'OP_CARRIER', 'ORIGIN', 'DEST', 'CRS_DEP_TIME', 'CRS_ARR_TIME', 'DISTANCE'])\n",
    "\n",
    "from pyspark.ml.feature import StringIndexer\n",
    "categorical_variables=['OP_CARRIER', 'ORIGIN', 'DEST', 'CRS_DEP_TIME', 'CRS_ARR_TIME', 'ClassDelay']\n",
    "for variable in categorical_variables:\n",
    "    indexer = StringIndexer(inputCol=variable, outputCol=variable+\"index\")\n",
    "    a = indexer.fit(a).transform(a)\n",
    "a=a.drop('ClassDelay', 'OP_CARRIER', 'ORIGIN', 'DEST', 'CRS_DEP_TIME', 'CRS_ARR_TIME')\n",
    "\n",
    "a=a.na.drop()\n",
    "a.printSchema()\n",
    "a.show()"
   ]
  },
  {
   "cell_type": "code",
   "execution_count": null,
   "id": "UCo5zOolcbfh",
   "metadata": {
    "id": "UCo5zOolcbfh"
   },
   "outputs": [],
   "source": [
    "from pyspark.ml.classification import LogisticRegression\n",
    "from pyspark.ml.regression import LinearRegression\n",
    "from pyspark.ml.feature import OneHotEncoder\n",
    "from pyspark.ml.feature import VectorAssembler\n",
    "\n",
    "numerical_variables=a.select(['OP_CARRIERindex', 'ORIGINindex', 'DESTindex', 'CRS_DEP_TIMEindex', 'CRS_ARR_TIMEindex','DISTANCE'])\n",
    "encoder = OneHotEncoder(inputCol='OP_CARRIERindex', outputCol='OP_CARRIERnorm')\n",
    "encoder = encoder.fit(a)\n",
    "a = encoder.transform(a) \n",
    "\n",
    "encoder = OneHotEncoder(inputCol='ORIGINindex', outputCol='ORIGINnorm')\n",
    "encoder = encoder.fit(a)\n",
    "a = encoder.transform(a)\n",
    "\n",
    "encoder = OneHotEncoder(inputCol='DESTindex', outputCol='DESTnorm')\n",
    "encoder = encoder.fit(a)\n",
    "a = encoder.transform(a)\n",
    "\n",
    "encoder = OneHotEncoder(inputCol='CRS_DEP_TIMEindex', outputCol='CRS_DEP_TIMEnorm')\n",
    "encoder = encoder.fit(a)\n",
    "a = encoder.transform(a)\n",
    "\n",
    "encoder = OneHotEncoder(inputCol='CRS_ARR_TIMEindex', outputCol='CRS_ARR_TIMEnorm')\n",
    "encoder = encoder.fit(a)\n",
    "a = encoder.transform(a)\n",
    "\n",
    "encoder = OneHotEncoder(inputCol='DISTANCE', outputCol='DISTANCEnorm')\n",
    "encoder = encoder.fit(a)\n",
    "a = encoder.transform(a)\n",
    "\n",
    "a=a.drop('OP_CARRIERindex', 'ORIGINindex', 'DESTindex', 'CRS_DEP_TIMEindex', 'CRS_ARR_TIMEindex','DISTANCE')\n"
   ]
  },
  {
   "cell_type": "code",
   "execution_count": null,
   "id": "Ja1qaUF8PD6o",
   "metadata": {
    "colab": {
     "base_uri": "https://localhost:8080/"
    },
    "id": "Ja1qaUF8PD6o",
    "outputId": "776f9c56-9123-4ce3-c908-92f0a7883c78"
   },
   "outputs": [
    {
     "name": "stdout",
     "output_type": "stream",
     "text": [
      "+---------------+--------------------+\n",
      "|ClassDelayindex|      feature_vector|\n",
      "+---------------+--------------------+\n",
      "|            0.0|(8512,[4,31,377,1...|\n",
      "|            0.0|(8512,[4,27,380,7...|\n",
      "|            0.0|(8512,[4,63,377,8...|\n",
      "|            0.0|(8512,[4,66,375,1...|\n",
      "|            1.0|(8512,[4,18,463,7...|\n",
      "|            0.0|(8512,[4,18,430,1...|\n",
      "|            0.0|(8512,[4,25,384,8...|\n",
      "|            0.0|(8512,[4,20,477,1...|\n",
      "|            1.0|(8512,[4,61,388,1...|\n",
      "|            0.0|(8512,[4,78,377,1...|\n",
      "|            0.0|(8512,[4,49,388,9...|\n",
      "|            1.0|(8512,[4,18,417,9...|\n",
      "|            0.0|(8512,[4,31,406,7...|\n",
      "|            1.0|(8512,[4,31,374,1...|\n",
      "|            1.0|(8512,[4,18,474,1...|\n",
      "|            1.0|(8512,[4,33,379,1...|\n",
      "|            1.0|(8512,[4,31,418,9...|\n",
      "|            1.0|(8512,[4,66,388,8...|\n",
      "|            0.0|(8512,[4,25,527,7...|\n",
      "|            0.0|(8512,[4,93,388,1...|\n",
      "+---------------+--------------------+\n",
      "only showing top 20 rows\n",
      "\n"
     ]
    }
   ],
   "source": [
    "# Vector Assembler\n",
    "from pyspark.ml.feature import VectorAssembler\n",
    "\n",
    "cols = a.select(['OP_CARRIERnorm', 'ORIGINnorm', 'DESTnorm', 'CRS_DEP_TIMEnorm', 'CRS_ARR_TIMEnorm','DISTANCEnorm']).columns\n",
    "assembler=VectorAssembler(inputCols=cols,outputCol='feature_vector')\n",
    "a=assembler.transform(a).select('ClassDelayindex','feature_vector')\n",
    "a.take(1)\n",
    "a.show()\n",
    "\n"
   ]
  },
  {
   "cell_type": "code",
   "execution_count": null,
   "id": "_5EZJBT0V3Mj",
   "metadata": {
    "id": "_5EZJBT0V3Mj"
   },
   "outputs": [],
   "source": [
    "#split data into train and test set\n",
    "\n",
    "ratio = 0.7\n",
    "train = a.sampleBy('ClassDelayindex',fractions={0:ratio,1:ratio}, seed = 42)\n",
    "test = a.subtract(train)"
   ]
  },
  {
   "cell_type": "code",
   "execution_count": null,
   "id": "L03VBqN8je3R",
   "metadata": {
    "id": "L03VBqN8je3R"
   },
   "outputs": [],
   "source": [
    "#Model selection\n",
    "\n",
    "from pyspark.ml.classification import LogisticRegression\n",
    "lr = LogisticRegression(featuresCol = 'feature_vector', labelCol = 'ClassDelayindex', maxIter=10)\n",
    "lrModel = lr.fit(train)"
   ]
  },
  {
   "cell_type": "code",
   "execution_count": null,
   "id": "mHYgDTWTjlYW",
   "metadata": {
    "colab": {
     "base_uri": "https://localhost:8080/"
    },
    "id": "mHYgDTWTjlYW",
    "outputId": "c5c1cd4c-f24c-4b8b-eb9e-de1e14383913"
   },
   "outputs": [
    {
     "name": "stdout",
     "output_type": "stream",
     "text": [
      "+---------------+----------+--------------------+\n",
      "|ClassDelayindex|prediction|         probability|\n",
      "+---------------+----------+--------------------+\n",
      "|            0.0|       0.0|[0.69044980312274...|\n",
      "|            0.0|       0.0|[0.78350900307366...|\n",
      "|            0.0|       0.0|[0.83265189916365...|\n",
      "|            1.0|       0.0|[0.89252144167173...|\n",
      "|            0.0|       0.0|[0.83818750047416...|\n",
      "|            0.0|       0.0|[0.81504968528592...|\n",
      "|            0.0|       0.0|[0.84658058071577...|\n",
      "|            1.0|       0.0|[0.70128664280955...|\n",
      "|            0.0|       0.0|[0.90613155476103...|\n",
      "|            1.0|       0.0|[0.64800345668840...|\n",
      "|            1.0|       0.0|[0.71942016700270...|\n",
      "|            0.0|       0.0|[0.88146972413261...|\n",
      "|            1.0|       0.0|[0.86476857864294...|\n",
      "|            0.0|       0.0|[0.85346302263703...|\n",
      "|            0.0|       0.0|[0.65744303949975...|\n",
      "|            0.0|       0.0|[0.69215302087639...|\n",
      "|            1.0|       0.0|[0.67884095063244...|\n",
      "|            0.0|       0.0|[0.92748228276680...|\n",
      "|            0.0|       0.0|[0.82963053641720...|\n",
      "|            0.0|       0.0|[0.79560750278719...|\n",
      "+---------------+----------+--------------------+\n",
      "only showing top 20 rows\n",
      "\n"
     ]
    }
   ],
   "source": [
    "#Generating predictions\n",
    "predictions = lrModel.transform(train)\n",
    "predictions.select(['ClassDelayindex','prediction', 'probability']).show()"
   ]
  },
  {
   "cell_type": "code",
   "execution_count": null,
   "id": "mm-JxrJokaRb",
   "metadata": {
    "colab": {
     "base_uri": "https://localhost:8080/"
    },
    "id": "mm-JxrJokaRb",
    "outputId": "3def6aaa-5608-4cca-ff1e-6d4c31d94829"
   },
   "outputs": [
    {
     "name": "stdout",
     "output_type": "stream",
     "text": [
      "              precision    recall  f1-score   support\n",
      "\n",
      "         0.0       0.78      1.00      0.88   3948861\n",
      "         1.0       0.54      0.02      0.04   1100439\n",
      "\n",
      "    accuracy                           0.78   5049300\n",
      "   macro avg       0.66      0.51      0.46   5049300\n",
      "weighted avg       0.73      0.78      0.69   5049300\n",
      "\n",
      "[[3931670   17191]\n",
      " [1080346   20093]]\n"
     ]
    }
   ],
   "source": [
    "y_true = predictions.select(['ClassDelayindex']).collect()\n",
    "y_pred = predictions.select(['prediction']).collect()\n",
    "\n",
    "from sklearn.metrics import classification_report, confusion_matrix\n",
    "\n",
    "print(classification_report(y_true, y_pred))\n",
    "print(confusion_matrix(y_true, y_pred))\n"
   ]
  },
  {
   "cell_type": "markdown",
   "id": "9f5c396f",
   "metadata": {
    "id": "9f5c396f"
   },
   "source": [
    "#### Discussion\n",
    "\n",
    "**Explain your code and discuss results**\n",
    "\n",
    "**EXPLANATION OF THE CODE**:\n",
    "\n",
    "In order to build a classification model based on the classes \"long\" and \"short\" referring to the departure delay of 10 minutes or less, I followed the following steps: \n",
    "\n",
    "1.   First of all I added the column \"ClassDelay\" containing the classification of the delay as long or short.\n",
    "2.   After that, I selected from the dataset flightsDF what I thought could be the columns related to the prediction of the class of delay: OP_CARRIER, ORIGIN, DEST, CRS_DEP_TIME, CRS_ARR_TIME, DISTANCE, that are the carrier operator, the iata code of the departure airport and the arrival one, the scheduled local arrival and departure time and the flight distance (in miles). \n",
    "3. I converted the values of the categorical variables into integers, so that I could place them inside a vector and build the classification model.\n",
    "4. I then converted that variables into one-hot numeric array. This encoding allows algorithms which expect continuous features, such as Logistic Regression, to use categorical features. \n",
    "5. I assembled the vectors obtained by *onehotencoder* into a sigle feature  and transformed the DataFrame into a two columns DataFrame that only contained the feature_vector and the ClassDelayindex.\n",
    "6. I then divided the data into train and test set.\n",
    "7. I applied the logistic regression model to the train set.\n",
    "8. To evaluate the model I generated the predictions and built the confusion matrix.\n",
    "\n",
    "**RESULTS**: The precision of our model, that is the percentage of the predicted \"short\" values that are actually \"short\", is higher respect to the precision of the \"long\" values. This means that our model has some difficulties to identify the flights that actually had a long delay.\n",
    "\n",
    "Recall, that show us the capacity of the classifier to predict the positive samples, is equal to 1 for the short delays, which means that all the delays predicted as short are actually short. While for the longest one is equal to 0, that means that there were not true positives.\n",
    "\n",
    "F1 is the harmonic mean of precision and recall, indeed it takes both false positive and false negatives into account, and as the other evaluation measures it warns us that our model is not appropriate to classify the delay into the classes \"short\" and \"long\". The higher number of \"short\" values make the model seems more appropriate, but the low percentage of the evaluation measures shows a clear problem in identifying the \"long\" class of delays.\n",
    "\n",
    "This means that the variables we used for our model are not the best appropriate to find discriminant between the two classes. \n",
    "\n",
    "Other variables, such as the ones related to the holidays, would be more appropriate to predict the delay of the flights, but it hasn't been possible to build the model with a larger dataset, because the program didn't work properly. "
   ]
  },
  {
   "cell_type": "markdown",
   "id": "e53677c5",
   "metadata": {
    "id": "e53677c5"
   },
   "source": [
    "## Problem 4 [4 points]\n",
    "\n",
    "Consider we want to cluster airports depending on their properties, such as average number of flights per day, delays, cancellations, etc.\n",
    "\n",
    "Measure the quality of your clustering result."
   ]
  },
  {
   "cell_type": "code",
   "execution_count": null,
   "id": "9338a0a3",
   "metadata": {
    "colab": {
     "base_uri": "https://localhost:8080/",
     "height": 741
    },
    "id": "9338a0a3",
    "outputId": "9103372c-99af-4cdb-84f7-253ecb936b8a"
   },
   "outputs": [
    {
     "name": "stdout",
     "output_type": "stream",
     "text": [
      "+--------+------------------+-----------+--------------------+--------------------+-----------+-----------+\n",
      "|IataCode|     NrFlightsxday|AvgDepDelay|       PercCancelled|        PercDiverted|AvgDuration|AvgDistance|\n",
      "+--------+------------------+-----------+--------------------+--------------------+-----------+-----------+\n",
      "|     ABE|11.832335329341317|       5.82| 0.02032721864154685|0.001983143282102...|      92.16|     561.74|\n",
      "|     ABI| 7.281437125748503|       8.67|0.023293172690763052|0.001606425702811245|      33.74|      158.0|\n",
      "|     ABQ|105.96706586826348|       5.04|0.005311674442133663|0.001967286830419875|      90.51|     641.72|\n",
      "|     ABY| 2.933734939759036|       7.75|0.021105527638190954|0.001005025125628...|       35.7|      146.0|\n",
      "|     ACK|3.0555555555555554|      16.48| 0.03508771929824561|                 0.0|      44.43|      199.0|\n",
      "+--------+------------------+-----------+--------------------+--------------------+-----------+-----------+\n",
      "only showing top 5 rows\n",
      "\n",
      "The best result is reached with 3 clusters and a related quality of 0.5257517520336831\n"
     ]
    },
    {
     "data": {
      "image/png": "[encoded data removed]",
      "text/plain": [
       "<Figure size 1000x600 with 1 Axes>"
      ]
     },
     "metadata": {},
     "output_type": "display_data"
    }
   ],
   "source": [
    "from pyspark.ml.clustering import KMeans\n",
    "from pyspark.ml.evaluation import *\n",
    "from pyspark.ml.feature import *\n",
    "from sklearn import preprocessing\n",
    "\n",
    "#CREATE DATAFRAME\n",
    "\n",
    "#flightsDF.createOrReplaceTempView(\"flights\")\n",
    "\n",
    "#1. Avg number of flights per day in each airport \n",
    "avgNrFlights_1= spark.sql(\"\"\"SELECT ORIGIN as IataCode, COUNT(ORIGIN)/COUNT(DISTINCT(FL_DATE)) as NrFlightsxday \n",
    "                          FROM (SELECT * FROM flights WHERE CANCELLED = 0)  \n",
    "                          GROUP BY IataCode\n",
    "                          ORDER BY NrFlightsxday\n",
    "                          \"\"\")\n",
    "avgNrFlights_1.createOrReplaceTempView(\"var1\")\n",
    "\n",
    "#2. Avg minutes of departure delay in each airport\n",
    "avgDepDelay_1 = spark.sql(\"\"\"SELECT ORIGIN as IataCode, ROUND(AVG(DEP_DELAY),2) as AvgDepDelay\n",
    "                            FROM (SELECT * FROM flights WHERE CANCELLED = 0)  \n",
    "                            GROUP BY IataCode\n",
    "                            ORDER BY AvgDepDelay\n",
    "                            \"\"\")\n",
    "avgDepDelay_1.createOrReplaceTempView(\"var2\") \n",
    "\n",
    "#3. Cancellation flights frequency in each airport\n",
    "cancfrequency_1 = spark.sql(\"\"\"SELECT ORIGIN as IataCode, AVG(CANCELLED) as PercCancelled\n",
    "                            FROM flights  \n",
    "                            GROUP BY IataCode\n",
    "                            ORDER BY PercCancelled\n",
    "                            \"\"\")\n",
    "cancfrequency_1.createOrReplaceTempView(\"var3\")\n",
    "\n",
    "#3. Diverted flights frequency in each airport\n",
    "cancfrequency_1 = spark.sql(\"\"\"SELECT ORIGIN as IataCode, AVG(DIVERTED) as PercDiverted\n",
    "                            FROM flights  \n",
    "                            GROUP BY IataCode\n",
    "                            ORDER BY PercDiverted\n",
    "                            \"\"\")\n",
    "cancfrequency_1.createOrReplaceTempView(\"var4\")\n",
    "\n",
    "#4. Average flight Duration in each airport\n",
    "avgDuration_1 = spark.sql(\"\"\"SELECT ORIGIN as IataCode, ROUND(AVG(AIR_TIME),2) as AvgDuration\n",
    "                            FROM (SELECT * FROM flights WHERE CANCELLED = 0)  \n",
    "                            GROUP BY IataCode\n",
    "                            ORDER BY AvgDuration\n",
    "                            \"\"\")\n",
    "avgDuration_1.createOrReplaceTempView(\"var5\")\n",
    "\n",
    "#5. Average Flight Distance in each airport  bc of intercontinental flights\n",
    "avgDistance_1 = spark.sql(\"\"\"SELECT ORIGIN as IataCode, ROUND(AVG(DISTANCE),2) as AvgDistance\n",
    "                            FROM (SELECT * FROM flights WHERE CANCELLED = 0)  \n",
    "                            GROUP BY IataCode\n",
    "                            ORDER BY AvgDistance\n",
    "                            \"\"\")\n",
    "avgDistance_1.createOrReplaceTempView(\"var6\")\n",
    "\n",
    "#Create Clusters DataFrame\n",
    "finalDF_clusters = spark.sql(\"\"\"SELECT a.IataCode, NrFlightsxday, AvgDepDelay, PercCancelled, PercDiverted, AvgDuration, AvgDistance  \n",
    "                   FROM var1 a \n",
    "                   LEFT JOIN  var2 b \n",
    "                   ON a.IataCode = b.IataCode \n",
    "                   LEFT JOIN var3 c \n",
    "                   ON a.IataCode = c.IataCode\n",
    "                   LEFT JOIN var4 d \n",
    "                   ON a.IataCode = d.IataCode \n",
    "                   LEFT JOIN var5 e \n",
    "                   ON a.IataCode = e.IataCode\n",
    "                   LEFT JOIN var6 f \n",
    "                   ON a.IataCode = f.IataCode\n",
    "                   ORDER BY IataCode\"\"\")\n",
    "\n",
    "finalDF_clusters.show(5)\n",
    "finalDF_clusters.createOrReplaceTempView(\"answer\")\n",
    "\n",
    "#NORMALIZE VALUES IN COLUMNS\n",
    "clusterDF_norm=finalDF_clusters.toPandas()\n",
    "clusterDF_norm.iloc[:,1:] = clusterDF_norm.iloc[:,1:].apply(lambda x: (x-x.mean())/ x.std(), axis=0)\n",
    "clusterDF_norm.head(5)\n",
    "dataset = spark.createDataFrame(clusterDF_norm)\n",
    "\n",
    "#FEATURES combination\n",
    "input_list = [item for item in clusterDF_norm]\n",
    "assembler = VectorAssembler(inputCols = input_list[1:],outputCol = \"features\")\n",
    "dataset1 = assembler.transform(dataset)\n",
    "\n",
    "#SILHOUETTE ANALYSIS:\n",
    "def evaluate(input, k):\n",
    "    kmeans = KMeans().setK(k).setSeed(1)\n",
    "    model = kmeans.fit(input)\n",
    "    predictions = model.transform(input)\n",
    "    evaluator = ClusteringEvaluator()\n",
    "    score = evaluator.evaluate(predictions)\n",
    "    return score\n",
    "\n",
    "df = pd.DataFrame(columns=['num','score'])\n",
    "for i in range(2,40):\n",
    "  df = df.append({\"num\": i, \"score\": evaluate(dataset1,i)}, ignore_index=True)\n",
    "\n",
    "  df = pd.DataFrame(columns=['num','score'])\n",
    "for i in range(2,40):\n",
    "    df = df.append({\"num\": i, \"score\": evaluate(dataset1,i)}, ignore_index=True)\n",
    "\n",
    "# PLOT SCORE   \n",
    "df.plot( x=\"num\", y=\"score\")\n",
    "k= int(df.nlargest(1,\"score\")[\"num\"].values[0])\n",
    "v= float(df.nlargest(1,\"score\")[\"score\"])\n",
    "print(f\"The best result is reached with {k} clusters and a related quality of {v}\")"
   ]
  },
  {
   "cell_type": "code",
   "execution_count": null,
   "id": "YyA9maB7_Y9V",
   "metadata": {
    "colab": {
     "base_uri": "https://localhost:8080/",
     "height": 530
    },
    "id": "YyA9maB7_Y9V",
    "outputId": "9dec5563-0098-44f6-afab-29f71cbf851b"
   },
   "outputs": [
    {
     "data": {
      "text/plain": [
       "<matplotlib.legend.Legend at 0x7f624bb2ddd0>"
      ]
     },
     "execution_count": 50,
     "metadata": {},
     "output_type": "execute_result"
    },
    {
     "data": {
      "image/png": "[encoded data removed]",
      "text/plain": [
       "<Figure size 1000x600 with 1 Axes>"
      ]
     },
     "metadata": {},
     "output_type": "display_data"
    }
   ],
   "source": [
    "kmeans=KMeans().setK(k).setSeed(1)\n",
    "model= kmeans.fit(dataset1)\n",
    "predictions=model.transform(dataset1)\n",
    "predictions = predictions.drop('features')\n",
    "predictionsPD = predictions.toPandas()\n",
    "\n",
    "from sklearn.decomposition import PCA\n",
    "from sklearn.preprocessing import StandardScaler\n",
    "\n",
    "clusters_pca = predictionsPD.iloc[:, 2:].values \n",
    "clusters_pca = StandardScaler().fit_transform(clusters_pca)\n",
    "\n",
    "pc = PCA(n_components=k)\n",
    "reduced = pc.fit_transform(clusters_pca)\n",
    "\n",
    "#DISPLAY RESULTS WITH PCA\n",
    "for row in predictionsPD['prediction'].unique(): \n",
    "    mask = predictionsPD['prediction'] == row\n",
    "    plt.plot(reduced[mask, 0], reduced[mask, 1], '.',label=row)\n",
    "plt.legend()"
   ]
  },
  {
   "cell_type": "markdown",
   "id": "953bacbe",
   "metadata": {
    "id": "953bacbe"
   },
   "source": [
    "#### Discussion\n",
    "In order to cluster airports, we chose to aggregate airports following these variables:\n",
    "1. Average number of flights per day for each report.\n",
    "2. Average departure delay for each airport in minuts. We didn't drop negative values for DEP_DELAY because in our opinion it is reasonable to cluster airport for the average performance. \n",
    "3. Percentage of Cancelled Flights per airport. This is the frequency of cancelled flight per airport and it might deliver some interesting insights on aiport clusters. \n",
    "4. Percentage of Diverted Flights per airport. This is the frequency of diverted flight for each airport.\n",
    "5. Average duration of flights leaving from each airport. This variable can be interesting to see if there are clusters with longer average of duration (e.g. intercontinental flights mostly leaving from there, or local airport which mostly do national flights).\n",
    "5. Average distance. Strictly correlated to the one above for the same reasons. Not surprisingly, if we compute the correlation between variable 6 and 5 is strictly positive and high.\n",
    "\n",
    "The final dataframe created considers all the variables as normalized. This is because, since we use distance-based measurement, for clusters it's better to have zero-mean distribution and a stdv equal to one. \n",
    "\n",
    "We used Kmeans and the Silhouette Score to assign each element to the related cluster. The score measures the quality of the model and therefore how close the element is to its cluster compared to other clusters. \n",
    "The quality of this model is equal to almost 53% which means our cluster are not very dense or clearly distinct, but the model has not a bad performance. The clusters are 3 and with pca they are almost defined.   \n",
    "\n",
    "Thanks to iteration, we have computed the clustering for different values of K, leading to the conclusion that k=3 is the optimal number with the highest quality score.\n",
    "\n",
    "All in all, the score is not low. There is margin for improvement, maybe by choosing other variables. Cancellation rate, and also average delay are variables with mostly low values due to their nature. This can affect the model. \n",
    "\n",
    "This code has been run with 2009 dataset and not with the 2018 since in the first case way it delivers a better output. The performance of the 2018 dataset was not good because even with a quality of 71% it recognized only 2 clusters, a dense one and a non-dense second one. By changing the variables analyzed, the result could have been more insightful. "
   ]
  },
  {
   "cell_type": "markdown",
   "id": "1f71dae3",
   "metadata": {
    "id": "1f71dae3"
   },
   "source": [
    "## Problem 5 [3 points]\n",
    "\n",
    "We now want to find communities of airports, i.e., airports that are connected based on the flights that exist.\n",
    "\n",
    "Propose an algorithm to solve this problem and plot the communities as a graph. Run the program with and without GPU support."
   ]
  },
  {
   "cell_type": "code",
   "execution_count": null,
   "id": "G7TuoAIKz0Cv",
   "metadata": {
    "colab": {
     "base_uri": "https://localhost:8080/"
    },
    "id": "G7TuoAIKz0Cv",
    "outputId": "bce4b0aa-38c5-4d2b-dd31-27d7bf50426a"
   },
   "outputs": [
    {
     "name": "stdout",
     "output_type": "stream",
     "text": [
      "+---+---+---+\n",
      "|src|dst|cnt|\n",
      "+---+---+---+\n",
      "|DTW|BGM|920|\n",
      "|ANC|DLG| 84|\n",
      "|MSP|INL|650|\n",
      "|MCO|PSE|448|\n",
      "+---+---+---+\n",
      "only showing top 4 rows\n",
      "\n"
     ]
    }
   ],
   "source": [
    "edges = spark.sql(\"\"\"WITH totedges AS (SELECT origin AS src,\n",
    "                                              dest AS dst,\n",
    "                                              COUNT(*) AS cnt\n",
    "                                              FROM flights\n",
    "                                              GROUP BY src, dst),\n",
    "                          airp_dep AS (SELECT origin AS src,\n",
    "                                              COUNT(*) AS src_cnt\n",
    "                                              FROM flights\n",
    "                                              GROUP BY src),\n",
    "                          airp_arr AS (SELECT dest AS dst,\n",
    "                                              COUNT(*) AS dst_cnt\n",
    "                                              FROM flights\n",
    "                                              GROUP BY dst)\n",
    "                      SELECT e.src, e.dst, e.cnt\n",
    "                      FROM totedges e\n",
    "                      LEFT JOIN airp_dep d ON e.src = d.src\n",
    "                      LEFT JOIN airp_arr a ON e.dst = a.dst\n",
    "                      WHERE e.cnt/d.src_cnt > 0.05 OR e.cnt/a.dst_cnt > 0.05\"\"\")\n",
    "edges.createOrReplaceTempView(\"edges\")\n",
    "edges.show(4)"
   ]
  },
  {
   "cell_type": "code",
   "execution_count": null,
   "id": "OdfVWizu0M50",
   "metadata": {
    "colab": {
     "base_uri": "https://localhost:8080/"
    },
    "id": "OdfVWizu0M50",
    "outputId": "859c9365-a36a-463d-eb5e-6b0d4067c5a5"
   },
   "outputs": [
    {
     "name": "stdout",
     "output_type": "stream",
     "text": [
      "+---+--------+-------+\n",
      "| id|     lon|    lat|\n",
      "+---+--------+-------+\n",
      "|BGM|-75.9798|42.2087|\n",
      "|INL|-93.4031|48.5662|\n",
      "|PSE| -66.563|18.0083|\n",
      "|DLG|-158.505|59.0447|\n",
      "+---+--------+-------+\n",
      "only showing top 4 rows\n",
      "\n"
     ]
    }
   ],
   "source": [
    "vertices = spark.sql(\"\"\"SELECT f.id,\n",
    "                               FLOAT(TRIM(SUBSTRING_INDEX(a.coordinates,',',1))) AS lon,\n",
    "                               FLOAT(TRIM(SUBSTRING_INDEX(a.coordinates,',',-1))) AS lat\n",
    "                        FROM (SELECT src AS id FROM edges\n",
    "                              UNION \n",
    "                              SELECT dst AS id FROM edges) f\n",
    "                        JOIN airports a ON f.id = a.iata_code\"\"\")\n",
    "vertices.createOrReplaceTempView(\"vertices\")\n",
    "vertices.show(4)"
   ]
  },
  {
   "cell_type": "code",
   "execution_count": null,
   "id": "pgcKDV2P0Rk9",
   "metadata": {
    "colab": {
     "base_uri": "https://localhost:8080/"
    },
    "id": "pgcKDV2P0Rk9",
    "outputId": "9e673d17-872f-4d09-9588-b28d8c5d9599"
   },
   "outputs": [
    {
     "name": "stdout",
     "output_type": "stream",
     "text": [
      "+---+-------------+\n",
      "| id|        label|\n",
      "+---+-------------+\n",
      "|BTM| 661424963585|\n",
      "|OGS|1013612281856|\n",
      "|ATW|1056561954817|\n",
      "|ALO|1056561954817|\n",
      "|HTS|1013612281856|\n",
      "|YAK|1047972020225|\n",
      "|DLG|1649267441664|\n",
      "|SNA| 661424963585|\n",
      "|BOS| 893353197569|\n",
      "|IMT|1056561954817|\n",
      "|MIA| 970662608897|\n",
      "|BWI| 970662608897|\n",
      "|ABI|1056561954817|\n",
      "|SCE|1056561954817|\n",
      "|BGM|1056561954817|\n",
      "|GTR|1056561954817|\n",
      "|UIN| 936302870528|\n",
      "|AKN|1649267441664|\n",
      "|FAT| 661424963585|\n",
      "|YUM| 661424963585|\n",
      "+---+-------------+\n",
      "only showing top 20 rows\n",
      "\n"
     ]
    }
   ],
   "source": [
    "from graphframes import *\n",
    "g = GraphFrame(vertices, edges)\n",
    "result = g.labelPropagation(maxIter=5)\n",
    "result.select(\"id\", \"label\").show()"
   ]
  },
  {
   "cell_type": "code",
   "execution_count": null,
   "id": "6oiL0gDe0WXe",
   "metadata": {
    "id": "6oiL0gDe0WXe"
   },
   "outputs": [],
   "source": [
    "communitiesDF = result.toPandas()"
   ]
  },
  {
   "cell_type": "code",
   "execution_count": null,
   "id": "zqUySade0cJy",
   "metadata": {
    "colab": {
     "base_uri": "https://localhost:8080/",
     "height": 520
    },
    "id": "zqUySade0cJy",
    "outputId": "16ada370-ff3d-4ac9-ee6f-2f456840e9bf"
   },
   "outputs": [
    {
     "data": {
      "text/plain": [
       "<matplotlib.axes._subplots.AxesSubplot at 0x7f619fcd98d0>"
      ]
     },
     "execution_count": 45,
     "metadata": {},
     "output_type": "execute_result"
    },
    {
     "data": {
      "image/png": "[encoded data removed]",
      "text/plain": [
       "<Figure size 1000x600 with 2 Axes>"
      ]
     },
     "metadata": {},
     "output_type": "display_data"
    }
   ],
   "source": [
    "import matplotlib.pyplot as plt\n",
    "communitiesDFplot = communitiesDF.copy()\n",
    "communitiesDFplot['label'] = communitiesDFplot['label'].astype('category').cat.codes\n",
    "\n",
    "airports_df = airportsDF.toPandas()\n",
    "communitiesDFplot = communitiesDFplot.merge(airports_df[['iata_code', 'iso_country', 'continent']], left_on='id', right_on='iata_code')\n",
    "communitiesDFplot = communitiesDFplot[(communitiesDFplot['iso_country'] == 'US') & (communitiesDFplot['continent'] == 'NA')]\n",
    "plt.rcParams[\"figure.figsize\"] = [10, 6]\n",
    "plt.rcParams[\"figure.dpi\"] = 100\n",
    "cmap = 'Set1' if len(communitiesDFplot['label'].unique()) <= 9 else 'gist_ncar'\n",
    "communitiesDFplot.plot.scatter(x=\"lon\",y=\"lat\",c=\"label\",s=9,cmap=cmap)"
   ]
  },
  {
   "cell_type": "markdown",
   "id": "fc569949",
   "metadata": {
    "id": "fc569949"
   },
   "source": [
    "#### Explain your code and discuss results\n",
    "\n",
    "In order to find the communities of airports based on the flights that exists we have followed the following steps:\n",
    "we have created a Dataframe with Spark including the source airport, the destination one and the number of connections (flights) between the two, but only the connections greater than the 5% of the total ones for that airport.\n",
    "we then defined the vertices, that are the location of the airports, measured through longitude and latitude.\n",
    "Through GraphFrame we defined the communities of airport, assigning to the airport of the same community the same random number.\n",
    "-we converted our DataFrame into Pandas in order to plot our result.\n",
    "For the plot, we only considered the communities of airports in the USA.\n",
    "\n",
    "The resulting plot shows a big community (the yellow one) in the east of the country, and some other smaller ones in the same area (purple, green and red). In the middle of USA we found another consistent community of airports, while the ones in the northern-west part of the country (the orange and grey one) are smaller.\n",
    "\n",
    "The execution of the problem without the use of the GPU takes 50% longer."
   ]
  },
  {
   "cell_type": "code",
   "execution_count": null,
   "id": "0a9747db",
   "metadata": {},
   "outputs": [],
   "source": []
  }
 ],
 "metadata": {
  "accelerator": "GPU",
  "colab": {
   "provenance": []
  },
  "kernelspec": {
   "display_name": "Python 3 (ipykernel)",
   "language": "python",
   "name": "python3"
  },
  "language_info": {
   "codemirror_mode": {
    "name": "ipython",
    "version": 3
   },
   "file_extension": ".py",
   "mimetype": "text/x-python",
   "name": "python",
   "nbconvert_exporter": "python",
   "pygments_lexer": "ipython3",
   "version": "3.8.8"
  }
 },
 "nbformat": 4,
 "nbformat_minor": 5
}
